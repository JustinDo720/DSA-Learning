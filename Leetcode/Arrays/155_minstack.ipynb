{
 "cells": [
  {
   "cell_type": "markdown",
   "source": [
    "# 155 Min Stack\n",
    "\n",
    "Design a stack that supports push, pop, top, and retrieving the minimum element in constant time.\n",
    "- Implement the MinStack class:\n",
    "    - MinStack() initializes the stack object.\n",
    "    - void push(int val) pushes the element val onto the stack.\n",
    "    - void pop() removes the element on the top of the stack.\n",
    "    - int top() gets the top element of the stack.\n",
    "    - int getMin() retrieves the minimum element in the stack.\n"
   ],
   "metadata": {
    "collapsed": false
   },
   "id": "4eaa449e7fd7a868"
  },
  {
   "cell_type": "code",
   "execution_count": null,
   "outputs": [],
   "source": [
    "class MinStack:\n",
    "\n",
    "    def __init__(self):\n",
    "        # We create our stack attribute here at the constructor \n",
    "        self.stack = [] # Because we're using python, the array is already dynamic and is essentially a stack LIFO\n",
    "        self.minstack = []  # We're making another stack to keep track of the minimum value IN CONSTANT TIME (as opposed to O(n))        \n",
    "\n",
    "    def push(self, val: int) -> None:\n",
    "        # Pushing would be appending to our stack.\n",
    "        self.stack.append(val)\n",
    "        # We need to work with minstack as well. This is where we check if that value is lower than our current minium value\n",
    "        min_val = min(val, self.minstack[-1] if self.minstack else val) # our minimum value is between our new val and the last value inside our min stack \n",
    "        self.minstack.append(min_val)\n",
    "\n",
    "    def pop(self) -> None:\n",
    "        # Because Python already has a pop function...\n",
    "        self.stack.pop()\n",
    "        # However, we need to do this to our minstack as well. \n",
    "        # This is because what if the new value WAS the new minimum.\n",
    "        # That would mean popping our stack would need us to REMOVE that new minimum soo...\n",
    "        # We simply pop from our minstack as well\n",
    "        self.minstack.pop()\n",
    "\n",
    "    def top(self) -> int:\n",
    "        # To get our top value (the most recent value) we just get the last value in our array or the first value in our stack \n",
    "        return self.stack[-1]\n",
    "\n",
    "    def getMin(self) -> int:\n",
    "        # Now getting our minimum in constant time (O(1)) is easier with our minstack \n",
    "        return self.minstack[-1]\n",
    "\n",
    "\n",
    "# Your MinStack object will be instantiated and called as such:\n",
    "# obj = MinStack()\n",
    "# obj.push(val)\n",
    "# obj.pop()\n",
    "# param_3 = obj.top()\n",
    "# param_4 = obj.getMin()\n"
   ],
   "metadata": {
    "collapsed": false
   },
   "id": "460d04380c0e8ac6"
  }
 ],
 "metadata": {
  "kernelspec": {
   "display_name": "Python 3",
   "language": "python",
   "name": "python3"
  },
  "language_info": {
   "codemirror_mode": {
    "name": "ipython",
    "version": 2
   },
   "file_extension": ".py",
   "mimetype": "text/x-python",
   "name": "python",
   "nbconvert_exporter": "python",
   "pygments_lexer": "ipython2",
   "version": "2.7.6"
  }
 },
 "nbformat": 4,
 "nbformat_minor": 5
}
