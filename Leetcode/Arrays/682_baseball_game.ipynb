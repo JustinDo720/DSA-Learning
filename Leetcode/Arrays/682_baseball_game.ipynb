{
 "cells": [
  {
   "cell_type": "markdown",
   "source": [
    "# 682. Baseball Game\n",
    "\n",
    "You are given a list of strings operations, where operations[i] is the ith operation you must apply to the record and is one of the following\n",
    "- An integer x\n",
    "    - Record a new score of x. \n",
    "-  '+'\n",
    "    - Record a new score that is the sum of the previous two scores.\n",
    "- 'D'\n",
    "    - Record a new score that is the double of the previous score.\n",
    "- 'C'\n",
    "    - Invalidate the previous score, removing it from the record.\n"
   ],
   "metadata": {
    "collapsed": false
   },
   "id": "f4b460e994c3373f"
  },
  {
   "cell_type": "code",
   "execution_count": 2,
   "outputs": [
    {
     "ename": "NameError",
     "evalue": "name 'List' is not defined",
     "output_type": "error",
     "traceback": [
      "\u001B[1;31m---------------------------------------------------------------------------\u001B[0m",
      "\u001B[1;31mNameError\u001B[0m                                 Traceback (most recent call last)",
      "Cell \u001B[1;32mIn[2], line 1\u001B[0m\n\u001B[1;32m----> 1\u001B[0m \u001B[38;5;28;01mdef\u001B[39;00m \u001B[38;5;21mcalPoints\u001B[39m(\u001B[38;5;28mself\u001B[39m, operations: \u001B[43mList\u001B[49m[\u001B[38;5;28mstr\u001B[39m]) \u001B[38;5;241m-\u001B[39m\u001B[38;5;241m>\u001B[39m \u001B[38;5;28mint\u001B[39m:\n\u001B[0;32m      2\u001B[0m     \u001B[38;5;66;03m# Adding values to our array with a twist:\u001B[39;00m\n\u001B[0;32m      3\u001B[0m     \u001B[38;5;66;03m# \u001B[39;00m\n\u001B[0;32m      4\u001B[0m     \u001B[38;5;66;03m# '+' is the sum of the previous two scores \u001B[39;00m\n\u001B[0;32m      5\u001B[0m     \u001B[38;5;66;03m# 'D' will double the previous score \u001B[39;00m\n\u001B[0;32m      6\u001B[0m     \u001B[38;5;66;03m# 'C' will be removing the previous score \u001B[39;00m\n\u001B[0;32m      7\u001B[0m     \u001B[38;5;66;03m#\u001B[39;00m\n\u001B[0;32m      8\u001B[0m     \u001B[38;5;66;03m# Also keep in mind that operations is a list so we're going to have to loop \u001B[39;00m\n\u001B[0;32m      9\u001B[0m     \n\u001B[0;32m     10\u001B[0m     \u001B[38;5;66;03m# Starting off with creating a stack \u001B[39;00m\n\u001B[0;32m     11\u001B[0m     ops_stack \u001B[38;5;241m=\u001B[39m []\n\u001B[0;32m     13\u001B[0m     \u001B[38;5;66;03m# Looping through all of our operations \u001B[39;00m\n",
      "\u001B[1;31mNameError\u001B[0m: name 'List' is not defined"
     ]
    }
   ],
   "source": [
    "def calPoints(self, operations: List[str]) -> int:\n",
    "    # Adding values to our array with a twist:\n",
    "    # \n",
    "    # '+' is the sum of the previous two scores \n",
    "    # 'D' will double the previous score \n",
    "    # 'C' will be removing the previous score \n",
    "    #\n",
    "    # Also keep in mind that operations is a list so we're going to have to loop \n",
    "    \n",
    "    # Starting off with creating a stack \n",
    "    ops_stack = []\n",
    "    \n",
    "    # Looping through all of our operations \n",
    "    for p in range(len(operations)):\n",
    "        if operations[p] == '+':\n",
    "            # We're going sum up the two previous scores\n",
    "            # Since the rule is that these letter operations appear after 2 numbers are present in our stack...\n",
    "            ops_stack.append(ops_stack[-1] + ops_stack[-2])\n",
    "        elif operations[p] == 'C':\n",
    "            # We're going to remove the previous score\n",
    "            # Since the rule is that these letter operations appear after 1 numbers are present in our stack...\n",
    "            ops_stack.pop()     # Remember that our stack is LIFO\n",
    "        elif operations[p] == 'D':\n",
    "            # We're going to double the previous score\n",
    "            # Since the rule is that these letter operations appear after 1 numbers are present in our stack...\n",
    "            ops_stack.append(2*ops_stack[-1])\n",
    "        else:\n",
    "            # Push the number (as an integer) to our stack\n",
    "            ops_stack.append(int(operations[p]))\n",
    "    \n",
    "    return sum(ops_stack)   # Totaling the numbers"
   ],
   "metadata": {
    "collapsed": false,
    "ExecuteTime": {
     "end_time": "2024-04-14T20:36:04.023127100Z",
     "start_time": "2024-04-14T20:36:04.008010100Z"
    }
   },
   "id": "2ffbe0e10ed1a75c"
  },
  {
   "cell_type": "code",
   "execution_count": null,
   "outputs": [],
   "source": [],
   "metadata": {
    "collapsed": false
   },
   "id": "716ec9083c9786e"
  }
 ],
 "metadata": {
  "kernelspec": {
   "display_name": "Python 3",
   "language": "python",
   "name": "python3"
  },
  "language_info": {
   "codemirror_mode": {
    "name": "ipython",
    "version": 2
   },
   "file_extension": ".py",
   "mimetype": "text/x-python",
   "name": "python",
   "nbconvert_exporter": "python",
   "pygments_lexer": "ipython2",
   "version": "2.7.6"
  }
 },
 "nbformat": 4,
 "nbformat_minor": 5
}
