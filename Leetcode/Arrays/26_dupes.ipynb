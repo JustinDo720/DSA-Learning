{
 "cells": [
  {
   "cell_type": "markdown",
   "source": [
    "## 26. Remove Duplicates from Sorted Array\n",
    "\n",
    "Given an integer array nums sorted in non-decreasing order, remove the duplicates in-place such that each unique element appears only once. The relative order of the elements should be kept the same. Then return the number of unique elements in nums."
   ],
   "metadata": {
    "collapsed": false
   },
   "id": "c5ce17ca2430cc97"
  },
  {
   "cell_type": "code",
   "execution_count": null,
   "outputs": [],
   "source": [
    "class Solution:\n",
    "    def removeDuplicates(self, nums: List[int]) -> int:\n",
    "        \"\"\"\n",
    "        :type nums: List[int]\n",
    "        :rtype: int\n",
    "        \"\"\"\n",
    "        # Left and Right Pointer \n",
    "        # Since this is ascending order you know the first value will remain the same \n",
    "        l = 1   # we're checking the next index \n",
    "        # We're starting on 1 because again the first index should stay\n",
    "        # You just need to check if the second index and so fourth are the same as the one previous \n",
    "        for r in range(1, len(nums)):\n",
    "            # Checking or right pointer with the values before \n",
    "            if nums[r] != nums[r-1]:\n",
    "                # New Unique value which takes place of our Left Pointer \n",
    "                nums[l] = nums[r]\n",
    "                # Once we finish we need to increment our left pointer \n",
    "                l+=1\n",
    "        # Now we need to return the number of unique values and we know it's unique if our left pointer was incremented so..\n",
    "        return l"
   ],
   "metadata": {
    "collapsed": false
   },
   "id": "5e1f5658b7bfb28f"
  },
  {
   "cell_type": "code",
   "execution_count": null,
   "outputs": [],
   "source": [],
   "metadata": {
    "collapsed": false
   },
   "id": "146ec428a92ddd1f"
  },
  {
   "cell_type": "code",
   "execution_count": null,
   "outputs": [],
   "source": [],
   "metadata": {
    "collapsed": false
   },
   "id": "e432a9ebccff7563"
  },
  {
   "cell_type": "code",
   "execution_count": null,
   "outputs": [],
   "source": [],
   "metadata": {
    "collapsed": false
   },
   "id": "9c508cf8dc4bc3c1"
  }
 ],
 "metadata": {
  "kernelspec": {
   "display_name": "Python 3",
   "language": "python",
   "name": "python3"
  },
  "language_info": {
   "codemirror_mode": {
    "name": "ipython",
    "version": 2
   },
   "file_extension": ".py",
   "mimetype": "text/x-python",
   "name": "python",
   "nbconvert_exporter": "python",
   "pygments_lexer": "ipython2",
   "version": "2.7.6"
  }
 },
 "nbformat": 4,
 "nbformat_minor": 5
}
