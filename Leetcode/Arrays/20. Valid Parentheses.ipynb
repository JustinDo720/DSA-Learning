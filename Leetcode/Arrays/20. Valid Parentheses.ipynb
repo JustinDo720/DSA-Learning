{
 "cells": [
  {
   "cell_type": "markdown",
   "source": [
    "# 20. Valid Parentheses\n",
    "\n",
    "Given a string s containing just the characters '(', ')', '{', '}', '[' and ']', determine if the input string is valid.\n",
    "1) Open brackets must be closed by the same type of brackets.\n",
    "2) Open brackets must be closed in the correct order.\n",
    "3) Every close bracket has a corresponding open bracket of the same type."
   ],
   "metadata": {
    "collapsed": false
   },
   "id": "7054c729558afaa2"
  },
  {
   "cell_type": "code",
   "execution_count": null,
   "outputs": [],
   "source": [
    "class Solution:\n",
    "    def isValid(self, s: str) -> bool:\n",
    "        # The whole objective is to compare every second string with the previous\n",
    "        # To achieve this, we just use a stack and a hashmap \n",
    "        # where we push the first string to our stack and compare that value with our hashmap\n",
    "        \n",
    "        # Creating our stack and Hashmap \n",
    "        stack = []\n",
    "        hash_map = {')':'(', '}':'{', ']':'['}  # We start with the closing because we want to analyze the SECOND string with the previous\n",
    "        for specific_string in s:\n",
    "            if specific_string in hash_map:\n",
    "                # We know that it's a closing string so we need to compare this with the our stack\n",
    "                if stack and stack[-1] == hash_map[specific_string]:\n",
    "                    # We remove the opening from our stack because it's valid.\n",
    "                    stack.pop()\n",
    "                else:\n",
    "                    # We forgot this part but if there is no previous string we'd just return false\n",
    "                    return False\n",
    "            else:\n",
    "                # We know that its an open string so we could push it to our stack \n",
    "                stack.append(specific_string)\n",
    "        \n",
    "        # After our logic we check if our stack has any elements\n",
    "        return True if not stack else False"
   ],
   "metadata": {
    "collapsed": false
   },
   "id": "3a382372f80b020"
  },
  {
   "cell_type": "code",
   "execution_count": null,
   "outputs": [],
   "source": [],
   "metadata": {
    "collapsed": false
   },
   "id": "b591f4d32500eb11"
  },
  {
   "cell_type": "code",
   "execution_count": null,
   "outputs": [],
   "source": [],
   "metadata": {
    "collapsed": false
   },
   "id": "763d67009285a547"
  }
 ],
 "metadata": {
  "kernelspec": {
   "display_name": "Python 3",
   "language": "python",
   "name": "python3"
  },
  "language_info": {
   "codemirror_mode": {
    "name": "ipython",
    "version": 2
   },
   "file_extension": ".py",
   "mimetype": "text/x-python",
   "name": "python",
   "nbconvert_exporter": "python",
   "pygments_lexer": "ipython2",
   "version": "2.7.6"
  }
 },
 "nbformat": 4,
 "nbformat_minor": 5
}
