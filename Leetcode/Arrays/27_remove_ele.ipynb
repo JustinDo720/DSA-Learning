{
 "cells": [
  {
   "cell_type": "markdown",
   "source": [
    "## 27. Remove Element\n",
    "\n",
    "Given an integer array nums and an integer val, remove all occurrences of val in nums in-place. The order of the elements may be changed. Then return the number of elements in nums which are not equal to val."
   ],
   "metadata": {
    "collapsed": false
   },
   "id": "81fad4a87e40e9b2"
  },
  {
   "cell_type": "code",
   "execution_count": null,
   "outputs": [],
   "source": [
    "def removeElement(self, nums, val):\n",
    "        \"\"\"\n",
    "        :type nums: List[int]\n",
    "        :type val: int\n",
    "        :rtype: int\n",
    "        \"\"\"\n",
    "\n",
    "        # Removing all occurrences of in-place without a new array\n",
    "        # would require moving all elements that isn't the value to the front\n",
    "        # of the array. \n",
    "        #\n",
    "        # We'll do this by using a left and right pointer where the left pointer\n",
    "        # will tell us the index of our value and replace it with our right pointer\n",
    "        # the pointer that isn't our specified value\n",
    "\n",
    "        lp = 0  # It's the first position because the specified value could be in our first position \n",
    "        for rp in range(len(nums)):\n",
    "            # We'll move the number if it isn't our value. Otherwise we skip to let our left pointer sit\n",
    "            if nums[rp] != val:\n",
    "                # We'll replace the rp index value with our lp index value \n",
    "                nums[lp] = nums[rp]\n",
    "                # Also always need to increment our left pointer \n",
    "                lp += 1\n",
    "        # Leetcode wants to know the remaining elements and since we incremented lp...\n",
    "        return lp"
   ],
   "metadata": {
    "collapsed": false
   },
   "id": "af07b34484f33f78"
  }
 ],
 "metadata": {
  "kernelspec": {
   "display_name": "Python 3",
   "language": "python",
   "name": "python3"
  },
  "language_info": {
   "codemirror_mode": {
    "name": "ipython",
    "version": 2
   },
   "file_extension": ".py",
   "mimetype": "text/x-python",
   "name": "python",
   "nbconvert_exporter": "python",
   "pygments_lexer": "ipython2",
   "version": "2.7.6"
  }
 },
 "nbformat": 4,
 "nbformat_minor": 5
}
