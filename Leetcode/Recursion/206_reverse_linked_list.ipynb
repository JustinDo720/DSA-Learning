{
 "cells": [
  {
   "metadata": {},
   "cell_type": "markdown",
   "source": [
    "# Reverse a linked list \n",
    "\n",
    "---\n",
    "\n",
    "Given the beginning of a singly linked list head, reverse the list, and return the new beginning of the list.\n",
    "\n",
    "Since we're doing this **iteratively** we're using two pointers\n",
    "1) We start by **declaring the two pointers** and set the current pointer to the **head** node \n",
    "2) Then we set **switch** the two nodes\n",
    "3) Make sure to **update the pointers** to their next position to continue the while loop.\n",
    "4) Return the final node (which is the **previous pointer** since **current pointer** will be **null**)"
   ],
   "id": "919bc23ea6b302f5"
  },
  {
   "metadata": {},
   "cell_type": "code",
   "outputs": [],
   "execution_count": null,
   "source": [
    "from typing import *\n",
    "\n",
    "# Definition for singly-linked list.\n",
    "class ListNode:\n",
    "    def __init__(self, val=0, next=None):\n",
    "        self.val = val\n",
    "        self.next = next\n",
    "\n",
    "class Solution:\n",
    "    # By the way, type hint with Optional[Class]. the \"Class\" is our self-made class\n",
    "    def reverseList(self, head: Optional[ListNode]) -> Optional[ListNode]:\n",
    "        # Iteratively we could use two pointers, so let's initialize one and set the current pointer to the head \n",
    "        prev, curr = None, head \n",
    "        \n",
    "        # While current node isn't null (it'll be null when we reach to the end of the linked list)\n",
    "        while curr:\n",
    "            # Setting up a temp variable before changing our pointers next position \n",
    "            nxt = curr.next \n",
    "            # Now we swap the current pointer's node with the previous\n",
    "            curr.next, prev = prev, curr \n",
    "            # Now we update the current pointer\n",
    "            curr = nxt \n",
    "        \n",
    "        # Returning the final node\n",
    "        return prev\n",
    "        "
   ],
   "id": "94a5a926ab49b807"
  },
  {
   "metadata": {},
   "cell_type": "code",
   "outputs": [],
   "execution_count": null,
   "source": "",
   "id": "d4ef18cd22df184c"
  },
  {
   "metadata": {},
   "cell_type": "code",
   "outputs": [],
   "execution_count": null,
   "source": "",
   "id": "337f79b1fa1586cf"
  },
  {
   "metadata": {},
   "cell_type": "code",
   "outputs": [],
   "execution_count": null,
   "source": "",
   "id": "7046df4d27f4bec7"
  },
  {
   "metadata": {},
   "cell_type": "code",
   "outputs": [],
   "execution_count": null,
   "source": "",
   "id": "fe95a40dc67e57c4"
  }
 ],
 "metadata": {
  "kernelspec": {
   "display_name": "Python 3",
   "language": "python",
   "name": "python3"
  },
  "language_info": {
   "codemirror_mode": {
    "name": "ipython",
    "version": 2
   },
   "file_extension": ".py",
   "mimetype": "text/x-python",
   "name": "python",
   "nbconvert_exporter": "python",
   "pygments_lexer": "ipython2",
   "version": "2.7.6"
  }
 },
 "nbformat": 4,
 "nbformat_minor": 5
}
