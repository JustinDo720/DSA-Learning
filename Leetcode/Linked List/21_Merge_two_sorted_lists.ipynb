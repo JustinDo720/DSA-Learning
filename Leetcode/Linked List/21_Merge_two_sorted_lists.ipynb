{
 "cells": [
  {
   "cell_type": "markdown",
   "source": [
    "# 21. Merge Two Sorted Lists\n",
    "\n",
    "You are given the heads of two sorted linked lists list1 and list2.\n",
    "\n",
    "Merge the two lists into one sorted list. The list should be made by splicing together the nodes of the first two lists.\n",
    "\n",
    "Return the head of the merged linked list."
   ],
   "metadata": {
    "collapsed": false
   },
   "id": "3e2d8cdb91db02d4"
  },
  {
   "cell_type": "code",
   "execution_count": null,
   "outputs": [],
   "source": [
    "# Definition for singly-linked list.\n",
    "# class ListNode:\n",
    "#     def __init__(self, val=0, next=None):\n",
    "#         self.val = val\n",
    "#         self.next = next\n",
    "class Solution:\n",
    "    def mergeTwoLists(self, list1: Optional[ListNode], list2: Optional[ListNode]) -> Optional[ListNode]:\n",
    "        # Creating a dummy node to avoid inserting into an empty list\n",
    "        dummy = ListNode()\n",
    "        # Since there's only one node it's both the head & tail.\n",
    "        # The whole idea revolves around updating the tail.\n",
    "        tail = dummy \n",
    "\n",
    "        # Merging algorithm (iterate through both list and see which is smaller) the smaller value will be inserted into the output \n",
    "        # Our condition is to see if our lists are empty or not. If one of the lists are empty, we stop our merge and deal with an edge case \n",
    "        while list1 and list2:\n",
    "            if list1.val < list2.val:\n",
    "                # The smaller value is in list1 so...\n",
    "                # we just take the tail's \"next\" pointer and point it towards the NODE itself \n",
    "                tail.next = list1\n",
    "                # Then we need to update the list1 pointer \n",
    "                list1 = list1.next  # so that we could go to the next node \n",
    "            else:\n",
    "                # Same logic here but for list2 \n",
    "                tail.next = list2 \n",
    "                # Updating our list2 pointer \n",
    "                list2 = list2.next\n",
    "            # After the conditionals, we only updated the tail's pointer.\n",
    "            # We need to update the tail itself \n",
    "            tail = tail.next    # setting tail to the tail's pointer for the next node\n",
    "        \n",
    "        # Edge case: One of them empty and the other isn't \n",
    "        if list1:\n",
    "            # We'll take the remainder of list1 nodes\n",
    "            tail.next = list1 \n",
    "        elif list2:\n",
    "            # We'll take the remainder of list2 nodes\n",
    "            tail.next = list2\n",
    "        \n",
    "        # Return the head of the merged linked list.\n",
    "        #\n",
    "        # Remember we still have that starting node\n",
    "        # which means cannot just return dummy.\n",
    "        #\n",
    "        # Dummy.next will return the head of the actual starting element of our merge sort linked list.\n",
    "        return dummy.next   # returning the list "
   ],
   "metadata": {
    "collapsed": false
   },
   "id": "987e3d3d5a1bbd3c"
  },
  {
   "cell_type": "code",
   "execution_count": null,
   "outputs": [],
   "source": [],
   "metadata": {
    "collapsed": false
   },
   "id": "142427dea2d7074c"
  }
 ],
 "metadata": {
  "kernelspec": {
   "display_name": "Python 3",
   "language": "python",
   "name": "python3"
  },
  "language_info": {
   "codemirror_mode": {
    "name": "ipython",
    "version": 2
   },
   "file_extension": ".py",
   "mimetype": "text/x-python",
   "name": "python",
   "nbconvert_exporter": "python",
   "pygments_lexer": "ipython2",
   "version": "2.7.6"
  }
 },
 "nbformat": 4,
 "nbformat_minor": 5
}
