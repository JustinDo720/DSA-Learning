{
 "cells": [
  {
   "cell_type": "markdown",
   "source": [
    "# 1472. Design Browser History \n",
    "\n",
    "---\n",
    "\n",
    "You have a browser of one tab where you start on the homepage and you can visit another url, get back in the history number of steps or move forward in the history number of steps.|"
   ],
   "metadata": {
    "collapsed": false
   },
   "id": "fc8a8911ccc83de"
  },
  {
   "cell_type": "code",
   "execution_count": null,
   "outputs": [],
   "source": [
    "# Creating that ListNode\n",
    "class ListNode:\n",
    "    def __init__(self, var, prev=None, next=None):\n",
    "        self.next = next \n",
    "        self.val = var\n",
    "        self.prev = prev \n",
    "\n",
    "\n",
    "class BrowserHistory:\n",
    "\n",
    "    def __init__(self, homepage: str):\n",
    "        self.cur = ListNode(homepage)\n",
    "\n",
    "    def visit(self, url: str) -> None:\n",
    "        # Tie homepage node with the new visited URL. \n",
    "        # Since this is a doubly linked list --> we need to chain the previous pointer of our new node \n",
    "        # to the homepage node\n",
    "        self.cur.next = ListNode(url, self.cur)\n",
    "        # Now this is important.\n",
    "        # You need to update the current node \n",
    "        self.cur = self.cur.next\n",
    "        \n",
    "    # Return a value\n",
    "    def back(self, steps: int) -> str:\n",
    "        # Checking if our current node has a previous pointer\n",
    "        # or else we cannot move back\n",
    "        #\n",
    "        # Make sure Steps are still available while we decrement the steps variable\n",
    "        while self.cur.prev and steps > 0:\n",
    "            # Constantly update the current page \n",
    "            self.cur = self.cur.prev\n",
    "            steps -= 1\n",
    "        \n",
    "        # returning the current node \n",
    "        return self.cur.val     # the url val \n",
    "\n",
    "    # Return a value \n",
    "    def forward(self, steps: int) -> str:\n",
    "        # Checking if our current node has a next pointer\n",
    "        # or else we cannot move forward\n",
    "        #\n",
    "        # Make sure Steps are still available while we decrement the steps variable\n",
    "        while self.cur.next and steps > 0:\n",
    "            # Constantly update the current page \n",
    "            self.cur = self.cur.next\n",
    "            steps -= 1\n",
    "        \n",
    "        # returning the current node \n",
    "        return self.cur.val     # the url val \n",
    "\n",
    "\n",
    "# Your BrowserHistory object will be instantiated and called as such:\n",
    "# obj = BrowserHistory(homepage)\n",
    "# obj.visit(url)\n",
    "# param_2 = obj.back(steps)\n",
    "# param_3 = obj.forward(steps)"
   ],
   "metadata": {
    "collapsed": false
   },
   "id": "49b9963fc202cca9"
  },
  {
   "cell_type": "code",
   "execution_count": null,
   "outputs": [],
   "source": [],
   "metadata": {
    "collapsed": false
   },
   "id": "eafaa62492c1f4c6"
  },
  {
   "cell_type": "code",
   "execution_count": null,
   "outputs": [],
   "source": [],
   "metadata": {
    "collapsed": false
   },
   "id": "c453499739121c10"
  },
  {
   "cell_type": "code",
   "execution_count": null,
   "outputs": [],
   "source": [],
   "metadata": {
    "collapsed": false
   },
   "id": "1f7f1fa978c3eee8"
  },
  {
   "cell_type": "code",
   "execution_count": null,
   "outputs": [],
   "source": [],
   "metadata": {
    "collapsed": false
   },
   "id": "85cf26af5dbfa69"
  }
 ],
 "metadata": {
  "kernelspec": {
   "display_name": "Python 3",
   "language": "python",
   "name": "python3"
  },
  "language_info": {
   "codemirror_mode": {
    "name": "ipython",
    "version": 2
   },
   "file_extension": ".py",
   "mimetype": "text/x-python",
   "name": "python",
   "nbconvert_exporter": "python",
   "pygments_lexer": "ipython2",
   "version": "2.7.6"
  }
 },
 "nbformat": 4,
 "nbformat_minor": 5
}
