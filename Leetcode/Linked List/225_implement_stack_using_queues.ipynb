{
 "cells": [
  {
   "metadata": {},
   "cell_type": "markdown",
   "source": [
    "# 225. Implement Stack using Queues\n",
    "\n",
    "Implement a last-in-first-out (LIFO) stack using only two queues. The implemented stack should support all the functions of a normal stack (push, top, pop, and empty).\n",
    "\n",
    "Note:\n",
    "- **Enqueue** is just adding an **element** to the end of the queue \n",
    "- **Dequeue** is adding an **element** in front of the queue \n",
    "\n"
   ],
   "id": "bd129cb966ddce36"
  },
  {
   "metadata": {
    "ExecuteTime": {
     "end_time": "2024-06-24T19:19:03.639756Z",
     "start_time": "2024-06-24T19:19:03.634958Z"
    }
   },
   "cell_type": "code",
   "source": [
    "import collections\n",
    "\n",
    "class MyStack:\n",
    "\n",
    "    def __init__(self):\n",
    "        # To implement a queue as a stack we need to know the difference \n",
    "        # \n",
    "        # Queues are FIFO while Stacks are LIFO which means \n",
    "        # removing elements are different.\n",
    "        #   \n",
    "        # The strategy will be removing the element in FIFO manner then appending it to the left except for our last element \n",
    "        # This way we will get a queue that equals to the elements of a stack using the pop method\n",
    "        #\n",
    "        # Other than the pop method, everything else is the same. It will works the same except removing elements\n",
    "        self.q = collections.deque()\n",
    "    \n",
    "    def push(self, x: int) -> None:\n",
    "        # Like mentioned, pushing will be the same as a stack. (Enqueue)\n",
    "        self.q.append(x)\n",
    "        \n",
    "\n",
    "    def pop(self) -> int:\n",
    "        # This is the only difficult part.\n",
    "        #\n",
    "        # To make a queue act as a FIFO, we need to Dequeue and append that element to the end of the queue\n",
    "        # Think of it as refreshing the queue until the final element is chosen to be removed.\n",
    "        # It's important that our range excludes the final element\n",
    "        for i in range(len(self.q)-1):\n",
    "            popped_element = self.q.popleft()    # Popleft allows us to properly work with queues, adding elements to the right and removing elements from the left (FIFO)\n",
    "            self.q.append(popped_element)   # We're going to put this element towards the end of the stack \n",
    "        \n",
    "        # Now that the final element is in front of our queue...\n",
    "        return self.q.popleft()\n",
    "\n",
    "    def top(self) -> int:\n",
    "        # Returning top is as easy as looking at a stack \n",
    "        return self.q[-1]\n",
    "        \n",
    "\n",
    "    def empty(self) -> bool:\n",
    "        # Checking if it's empty returns looking at the elements present inside this queue \n",
    "        return len(self.q) == 0\n",
    "        \n",
    "\n",
    "\n",
    "# Your MyStack object will be instantiated and called as such:\n",
    "# obj = MyStack()\n",
    "# obj.push(x)\n",
    "# param_2 = obj.pop()\n",
    "# param_3 = obj.top()\n",
    "# param_4 = obj.empty()"
   ],
   "id": "7eb64422675fa97f",
   "outputs": [
    {
     "ename": "IndentationError",
     "evalue": "expected an indented block after function definition on line 22 (1122224034.py, line 25)",
     "output_type": "error",
     "traceback": [
      "\u001B[1;36m  Cell \u001B[1;32mIn[2], line 25\u001B[1;36m\u001B[0m\n\u001B[1;33m    def top(self) -> int:\u001B[0m\n\u001B[1;37m    ^\u001B[0m\n\u001B[1;31mIndentationError\u001B[0m\u001B[1;31m:\u001B[0m expected an indented block after function definition on line 22\n"
     ]
    }
   ],
   "execution_count": 2
  },
  {
   "metadata": {},
   "cell_type": "code",
   "outputs": [],
   "execution_count": null,
   "source": "",
   "id": "c01470b43642fde2"
  },
  {
   "metadata": {},
   "cell_type": "code",
   "outputs": [],
   "execution_count": null,
   "source": "",
   "id": "e8d08eb09e6e2869"
  },
  {
   "metadata": {},
   "cell_type": "code",
   "outputs": [],
   "execution_count": null,
   "source": "",
   "id": "2fef15849b21df7a"
  },
  {
   "metadata": {},
   "cell_type": "code",
   "outputs": [],
   "execution_count": null,
   "source": "",
   "id": "66625c09dd30efd1"
  }
 ],
 "metadata": {
  "kernelspec": {
   "display_name": "Python 3",
   "language": "python",
   "name": "python3"
  },
  "language_info": {
   "codemirror_mode": {
    "name": "ipython",
    "version": 2
   },
   "file_extension": ".py",
   "mimetype": "text/x-python",
   "name": "python",
   "nbconvert_exporter": "python",
   "pygments_lexer": "ipython2",
   "version": "2.7.6"
  }
 },
 "nbformat": 4,
 "nbformat_minor": 5
}
