{
 "cells": [
  {
   "metadata": {},
   "cell_type": "markdown",
   "source": [
    "# 1700. Number of Students Unable to Eat Lunch\n",
    "\n",
    "\n",
    "---\n",
    "\n",
    "The sandwiches are placed in a stack. At each step:\n",
    "1) If the student at the front of the queue **prefers** the sandwich on the top of the stack, they **will take** it and leave the queue.\n",
    "2) Otherwise, they will **leave it** and go to the queue's end.\n",
    "\n",
    "---\n",
    "\n",
    "## Disclaimer \n",
    "\n",
    "I'm not sure why we cannot use our for loop to create the hashmap\n",
    "\n",
    "This solution **DOES NOT** work unless you implement `std_sdw_hashmap = Counter(students)` which is found from the **collections** module by `from collections import Counter`"
   ],
   "id": "730216640e6d96d"
  },
  {
   "metadata": {
    "ExecuteTime": {
     "end_time": "2024-06-24T22:43:51.704975Z",
     "start_time": "2024-06-24T22:43:51.701221Z"
    }
   },
   "cell_type": "code",
   "source": [
    "from typing import List\n",
    "from collections import Counter\n",
    "\n",
    "class Solution:\n",
    "    def countStudents(self, students: List[int], sandwiches: List[int]) -> int:\n",
    "        \"\"\"\n",
    "        We could see how many student remaining by using a hashmap to keep track of how many students ate a sandwich\n",
    "        \n",
    "        Steps:\n",
    "        1) Create a result counter that will be decremented each time a student eats a sandwich \n",
    "        2) Create a hashmap based on how many students wants a certain sandwich \n",
    "        \n",
    "        We have to understand that this is just matching. Since both queues are 0 and 1 values, we match the students (0) to eat sandwich (0) and the same goes for the value (1).\n",
    "        \"\"\"\n",
    "        result_counter = len(students)  # recording the total number of available students  \n",
    "        std_sdw_hashmap = {}    # we could use pythons built-in Counter function from the collections module\n",
    "        \n",
    "        for std in students:\n",
    "            if std not in std_sdw_hashmap:\n",
    "                # Then we add it to our hashmap \n",
    "                std_sdw_hashmap[std] = 0\n",
    "            std_sdw_hashmap[std] += 1\n",
    "        \n",
    "        # Now that we have a hashmap with a count of every student (in this case just 0 and 1)\n",
    "        for sdw in sandwiches:\n",
    "            if std_sdw_hashmap[sdw] > 0:\n",
    "                # That means there exists a student that wants this sandwich \n",
    "                # then we decrement our total student result that will be returned as the answer \n",
    "                # and that specific student count \n",
    "                result_counter -= 1 \n",
    "                std_sdw_hashmap[sdw] -= 1\n",
    "            else:\n",
    "                # But, if dont have any students that eats the sandwich \n",
    "                # we stop our program \n",
    "                return result_counter\n",
    "        \n",
    "        return result_counter\n",
    "                "
   ],
   "id": "8701f2109b1a235",
   "outputs": [],
   "execution_count": 2
  },
  {
   "metadata": {},
   "cell_type": "code",
   "outputs": [],
   "execution_count": null,
   "source": "",
   "id": "cd74347e2b05187a"
  },
  {
   "metadata": {},
   "cell_type": "code",
   "outputs": [],
   "execution_count": null,
   "source": "",
   "id": "5cfe5ccf4f5bb86"
  },
  {
   "metadata": {},
   "cell_type": "code",
   "outputs": [],
   "execution_count": null,
   "source": "",
   "id": "f3d8b4e8a115fd64"
  },
  {
   "metadata": {},
   "cell_type": "code",
   "outputs": [],
   "execution_count": null,
   "source": "",
   "id": "f833640bb7baad35"
  }
 ],
 "metadata": {
  "kernelspec": {
   "display_name": "Python 3",
   "language": "python",
   "name": "python3"
  },
  "language_info": {
   "codemirror_mode": {
    "name": "ipython",
    "version": 2
   },
   "file_extension": ".py",
   "mimetype": "text/x-python",
   "name": "python",
   "nbconvert_exporter": "python",
   "pygments_lexer": "ipython2",
   "version": "2.7.6"
  }
 },
 "nbformat": 4,
 "nbformat_minor": 5
}
