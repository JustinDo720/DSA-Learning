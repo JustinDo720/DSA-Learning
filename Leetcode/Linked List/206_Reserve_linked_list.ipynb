{
 "cells": [
  {
   "cell_type": "markdown",
   "source": [
    "# 206. Reserve Linked List\n",
    "\n",
    "Given the head of a singly linked list, reverse the list, and return the reversed list."
   ],
   "metadata": {
    "collapsed": false
   },
   "id": "b2f587e651d3001f"
  },
  {
   "cell_type": "code",
   "execution_count": null,
   "outputs": [],
   "source": [
    "# Definition for singly-linked list.\n",
    "# class ListNode:\n",
    "#     def __init__(self, val=0, next=None):\n",
    "#         self.val = val\n",
    "#         self.next = next\n",
    "class Solution:\n",
    "    def reverseList(self, head: Optional[ListNode]) -> Optional[ListNode]:\n",
    "        # Two Pointer Method \n",
    "        prev, curr = None, head\n",
    "        \n",
    "        # Iterate through the nodes \n",
    "        while curr:\n",
    "            # Hold onto the next node before changing our node's pointer to the previous node.\n",
    "            next_node = curr.next   # Temp variable\n",
    "            # Changing the pointer to the previous node\n",
    "            curr.next = prev \n",
    "            # Then we shift our pointers\n",
    "            prev = curr\n",
    "            curr = next_node\n",
    "        \n",
    "        # Return value for Leetcode answer\n",
    "        return prev"
   ],
   "metadata": {
    "collapsed": false
   },
   "id": "5acde062322a07c6"
  }
 ],
 "metadata": {
  "kernelspec": {
   "display_name": "Python 3",
   "language": "python",
   "name": "python3"
  },
  "language_info": {
   "codemirror_mode": {
    "name": "ipython",
    "version": 2
   },
   "file_extension": ".py",
   "mimetype": "text/x-python",
   "name": "python",
   "nbconvert_exporter": "python",
   "pygments_lexer": "ipython2",
   "version": "2.7.6"
  }
 },
 "nbformat": 4,
 "nbformat_minor": 5
}
