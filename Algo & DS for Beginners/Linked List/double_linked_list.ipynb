{
 "cells": [
  {
   "cell_type": "markdown",
   "source": [
    "# Doubly Linked Lists\n",
    "\n",
    "Unlike the **singly linked list**, our **doubly linked lists** has two pointers (one **previous** and one **next**)\n",
    "\n",
    "Regardless (compared to arrays), **Linked Lists** compared to **arrays** have different time complexity:\n",
    "- Accessing an **i-th** element:\n",
    "    - Arrays --> **O(1)**\n",
    "    - LinkedLists --> **O(n)**\n",
    "        - Mainly because you have to loop through all the nodes\n",
    "- Inserting / Removing end:\n",
    "    - Arrays and Linked list--> **O(1)**\n",
    "        - Doubly Linked list you just:\n",
    "                - Set a new **tail** to LinkedListNode.previous\n",
    "                - Set the **previous** *next pointer* to null"
   ],
   "metadata": {
    "collapsed": false,
    "pycharm": {
     "name": "#%% md\n"
    }
   }
  },
  {
   "cell_type": "code",
   "execution_count": 1,
   "outputs": [],
   "source": [
    "class ListNode:\n",
    "    \"\"\"\n",
    "    Implement a node for doubly linked list\n",
    "    \"\"\"\n",
    "    # Initiate the constructor\n",
    "    def __init__(self, val):\n",
    "        self.val = val\n",
    "        # Pointers will be defaulted to None. We'll add them when we're working with them\n",
    "        self.previous = None\n",
    "        self.next = None\n",
    "\n",
    "\n",
    "class LinkedList:\n",
    "    \"\"\"\n",
    "    Implement the actual Doubly Linked List\n",
    "\n",
    "    Step 1: Create a 2 Dummy ListNode to tie the head \"next\" pointer to the tail \"previous\"\n",
    "\n",
    "    Step 2: insertFront method --> creates a new Node and since this is the front we're working with head --> we're inserting this node in front of head\n",
    "\n",
    "    Step 3: insertEnd method --> creates a new Node and since this is at the end we're working with tails --> insert this node before tails\n",
    "\n",
    "    Step 4: removeFront method --> Removes the first node after dummy\n",
    "\n",
    "    Step 5: removeEnd method --> Removes the last node after dummy\n",
    "\n",
    "    Step 6: Print the nodes\n",
    "    \"\"\"\n",
    "\n",
    "    # Step 1 --> Dummy Nodes constructor\n",
    "    def __init__(self):\n",
    "        self.head = ListNode(-1)    # This is a dummy node so any value will do\n",
    "        self.tail = ListNode(-1)    # Since this is a doubly linked list we have a tail node as well\n",
    "        # Now we just tie these together\n",
    "        self.head.next = self.tail\n",
    "        self.tail.previous = self.head\n",
    "\n",
    "    def insertFront(self, val):\n",
    "        newNode = ListNode(val)\n",
    "\n",
    "        # Setting the head next pointer to our newly created node\n",
    "        self.head.next = newNode\n",
    "        # Setting the newNode next pointer to the node that was previous next to our head\n",
    "        # now pointed to the node after our newly inserted node\n",
    "        newNode.next = self.head.next\n",
    "\n",
    "        # Now since this a doubly linked list we need to workw ith the previous pointer\n",
    "        newNode.previous = self.head\n",
    "        newNode.next.previous = newNode\n",
    "\n",
    "    def insertEnd(self,val):\n",
    "        newNode = ListNode(val)\n",
    "\n",
    "        # Working with the end means we must work with tail\n",
    "        previousNode = self.tail.previous\n",
    "        self.tail.previous = newNode\n",
    "        newNode.next = self.tail\n",
    "\n",
    "        # Now working with the node previously next to tail and our newly created node\n",
    "        newNode.previous = previousNode\n",
    "        previousNode.next = newNode\n",
    "\n"
   ],
   "metadata": {
    "collapsed": false,
    "pycharm": {
     "name": "#%%\n"
    }
   }
  },
  {
   "cell_type": "code",
   "execution_count": null,
   "outputs": [],
   "source": [],
   "metadata": {
    "collapsed": false,
    "pycharm": {
     "name": "#%%\n"
    }
   }
  },
  {
   "cell_type": "code",
   "execution_count": null,
   "outputs": [],
   "source": [],
   "metadata": {
    "collapsed": false,
    "pycharm": {
     "name": "#%%\n"
    }
   }
  },
  {
   "cell_type": "code",
   "execution_count": null,
   "outputs": [],
   "source": [],
   "metadata": {
    "collapsed": false,
    "pycharm": {
     "name": "#%%\n"
    }
   }
  }
 ],
 "metadata": {
  "kernelspec": {
   "display_name": "Python 3",
   "language": "python",
   "name": "python3"
  },
  "language_info": {
   "codemirror_mode": {
    "name": "ipython",
    "version": 2
   },
   "file_extension": ".py",
   "mimetype": "text/x-python",
   "name": "python",
   "nbconvert_exporter": "python",
   "pygments_lexer": "ipython2",
   "version": "2.7.6"
  }
 },
 "nbformat": 4,
 "nbformat_minor": 0
}