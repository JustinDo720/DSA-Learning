{
 "cells": [
  {
   "metadata": {},
   "cell_type": "markdown",
   "source": [
    "# Queues\n",
    "\n",
    "---\n",
    "\n",
    "**Queues** is a data structure that deals with a **FIFO** relationship (*First In First Out*). Focusing on two major things **Dequeue** (Removing the first element) and **Enqueue** (Adding an element to the queue).\n",
    "\n",
    "---\n",
    "\n"
   ],
   "id": "d97b52e2d6c702e5"
  },
  {
   "metadata": {},
   "cell_type": "code",
   "outputs": [],
   "execution_count": null,
   "source": [
    "class ListNode:\n",
    "    \n",
    "    def __init__(self, val, nxt=None):\n",
    "        self.val = val \n",
    "        self.next = nxt\n",
    "\n",
    "\n",
    "class MyQueue:\n",
    "\n",
    "    def __init__(self):\n",
    "        # We're going to be using dummy nodes to work with queues \n",
    "        self.left = None \n",
    "        self.right = None \n",
    "        \n",
    "    # Two major things about a queue is the ability to Enqueue and Dequeue \n",
    "    def enqueue(self, val):\n",
    "        new_node = ListNode(val)\n",
    "        \n",
    "        # If the Queue is not empty \n",
    "        if self.right:\n",
    "            # We set the right node to something new \n",
    "            self.right.next, self.right = new_node, new_node\n",
    "        else:\n",
    "            # Queue is empty so both left and right dummy nodes will be our newly created node \n",
    "            self.left = self.right = new_node\n",
    "    \n",
    "    def dequeue(self):\n",
    "        # Now we need to work with removing the first element in our queue \n",
    "        # Of course, we need to check if the queue exists before working with it \n",
    "        if not self.left:\n",
    "            # An element does not exist to remove \n",
    "            return None \n",
    "        \n",
    "        # After checking if our queue is empty \n",
    "        val = self.left.val \n",
    "        # We're going to set our new left to the element right next in order to remove the first element \n",
    "        self.left = self.left.next  \n",
    "        \n",
    "        # Now in case there is only one element in our queue \n",
    "        if not self.left:\n",
    "            # We're going to empty out our queue \n",
    "            self.right = None\n",
    "        \n",
    "        return val "
   ],
   "id": "a6a39b140b1b4208"
  },
  {
   "metadata": {},
   "cell_type": "code",
   "outputs": [],
   "execution_count": null,
   "source": [],
   "id": "9eb9b692ca636fbd"
  },
  {
   "metadata": {},
   "cell_type": "code",
   "outputs": [],
   "execution_count": null,
   "source": [],
   "id": "69d0e0805d944445"
  },
  {
   "metadata": {},
   "cell_type": "code",
   "outputs": [],
   "execution_count": null,
   "source": [],
   "id": "b166ebdbb6907a75"
  },
  {
   "metadata": {},
   "cell_type": "code",
   "outputs": [],
   "execution_count": null,
   "source": [],
   "id": "99abad6033fa8fb5"
  },
  {
   "metadata": {},
   "cell_type": "code",
   "outputs": [],
   "execution_count": null,
   "source": [],
   "id": "d614169cab9d61f7"
  }
 ],
 "metadata": {
  "kernelspec": {
   "display_name": "Python 3",
   "language": "python",
   "name": "python3"
  },
  "language_info": {
   "codemirror_mode": {
    "name": "ipython",
    "version": 2
   },
   "file_extension": ".py",
   "mimetype": "text/x-python",
   "name": "python",
   "nbconvert_exporter": "python",
   "pygments_lexer": "ipython2",
   "version": "2.7.6"
  }
 },
 "nbformat": 4,
 "nbformat_minor": 5
}
