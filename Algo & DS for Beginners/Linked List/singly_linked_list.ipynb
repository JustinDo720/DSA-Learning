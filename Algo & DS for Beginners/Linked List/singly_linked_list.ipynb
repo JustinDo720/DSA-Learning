{
 "cells": [
  {
   "cell_type": "markdown",
   "source": [
    "# Linked Lists \n",
    "\n",
    "**List nodes** \n",
    "- Object consist of two things:\n",
    "    - value --> any value (int, str, etc)\n",
    "    - pointer --> next value (points at another list node)\n",
    "\n",
    "\n",
    "All list nodes are not in order in the ram (different from array)\n",
    "\n",
    "To connect nodes:\n",
    "`ListNode1.next = ListNode2`\n",
    "\n",
    "We could loop through the nodes by seeing if the **current node** has a *pointer* to **null**. If that's the case, then that node is the final node.\n",
    "\n",
    "Linked list have **pointers** that point towards the **first node** (head) and the **final node** (tails).\n",
    "- Connect the `tail.next` to another node to insert another node into the linked list\n",
    "- We also need to set the tail to that new node \n",
    "- All of this is a **constant time operation** (1 operation like an array)\n",
    "\n",
    "**Removing will always be a constant timed** operation in **linked list** because we have **pointers** to the ones we want to remove. \n",
    "`head.next = head.next.next` --> removes a middle node that is sent to the garbage collection\n",
    "- It could still be a O(n) operation if we dont know what we're removing  because you'll end up looping through the array anyways"
   ],
   "metadata": {
    "collapsed": false
   },
   "id": "b815ef62a8c7b665"
  },
  {
   "cell_type": "markdown",
   "source": [
    "# Creating a linked list \n",
    "\n",
    "\n",
    "### Creating a ListNode class \n",
    "\n",
    "We know that **Linked List** are made up of **List Nodes** so we could focus on making a class for a **List Node** which contains: **the value** that node holds and a **pointer** to the next node (if any)\n",
    "\n",
    "```python\n",
    "class ListNode:\n",
    "    \n",
    "    def __init__(self, value):\n",
    "        self.value = value \n",
    "        self.next = None    # None by default since we'll be manually linking each node\n",
    "```\n",
    "\n",
    "---\n",
    "\n",
    "### Placing our pointer \n",
    "\n",
    "Once you set a List Node class, we need to work with pointers \n",
    "\n",
    "```python\n",
    "ListNode2.next = ListNode3\n",
    "ListNode3.next = None \n",
    "```\n",
    "\n",
    "---\n",
    "\n",
    "### Traverse a linked list\n",
    "\n",
    "We use a **while loop** where you begin with your first node and set the node to the **pointer's** node\n",
    "\n",
    "```python\n",
    "curr_node = ListNode1 \n",
    "while curr_node:\n",
    "    curr_node = curr_node.next \n",
    "```\n",
    "\n",
    "---\n",
    "\n",
    "### Setting up heads and tails \n",
    "\n",
    "Linked list have 2 extra pointers (One for the beginning node **Heads** and one for the last node **Tails**)\n",
    "\n",
    "```python\n",
    "class LinkedList:\n",
    "\n",
    "    def __init__(self):\n",
    "        # Dummy Node \n",
    "        self.head = ListNode(-1)\n",
    "        self.tail = self.head\n",
    "\n",
    "    def insertEnd(self, val):\n",
    "        # Creating another node for our current tail\n",
    "        self.tail.next = ListNode(val)\n",
    "        # With a new node we need to set the tail to that new node \n",
    "        self.tail = self.tail.next\n",
    "\n",
    "    def remove(self, index):\n",
    "        i = 0\n",
    "        curr = self.head \n",
    "        while i < index and curr:\n",
    "            i += 1\n",
    "            curr = curr.next \n",
    "        \n",
    "        # Removal process \n",
    "        if curr and curr.next:\n",
    "            if curr.next == self.tail:\n",
    "                self.tail = curr\n",
    "            curr.next = curr.next.next\n",
    "```"
   ],
   "metadata": {
    "collapsed": false
   },
   "id": "fd845b7f479e92a7"
  },
  {
   "cell_type": "code",
   "execution_count": null,
   "outputs": [],
   "source": [],
   "metadata": {
    "collapsed": false
   },
   "id": "285280b4eb69693f"
  },
  {
   "cell_type": "code",
   "execution_count": null,
   "outputs": [],
   "source": [],
   "metadata": {
    "collapsed": false
   },
   "id": "5a816ede33f6eb52"
  },
  {
   "cell_type": "code",
   "execution_count": null,
   "outputs": [],
   "source": [],
   "metadata": {
    "collapsed": false
   },
   "id": "eb7ef2cea1fc7885"
  }
 ],
 "metadata": {
  "kernelspec": {
   "display_name": "Python 3",
   "language": "python",
   "name": "python3"
  },
  "language_info": {
   "codemirror_mode": {
    "name": "ipython",
    "version": 2
   },
   "file_extension": ".py",
   "mimetype": "text/x-python",
   "name": "python",
   "nbconvert_exporter": "python",
   "pygments_lexer": "ipython2",
   "version": "2.7.6"
  }
 },
 "nbformat": 4,
 "nbformat_minor": 5
}
