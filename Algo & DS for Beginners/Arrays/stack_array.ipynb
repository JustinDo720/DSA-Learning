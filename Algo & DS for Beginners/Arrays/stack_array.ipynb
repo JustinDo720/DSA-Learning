{
 "cells": [
  {
   "cell_type": "markdown",
   "source": [
    "# Stack Arrays \n",
    "\n",
    "**Stacks** is a data structure thats supports:\n",
    "- Push at the end **O(1)**\n",
    "    - `self.stack.append(n)` \n",
    "- Pop at the end **O(1)**\n",
    "    - `self.stack.pop()`\n",
    "- Peek at the end **O(1)**\n",
    "    - `self.stack[-1]`\n",
    "\n",
    "Stacks could be implemented with the **dynamic array**\n",
    "- pointer to know the next element\n",
    "\n",
    "Stacks are **LIFO - Last In First Out**\n",
    "- Thinking of stacks like a vertical data structure... the last one we put in will be the first to go out using `pop()`\n",
    "- if our stack ends with a `3` and we use `pop()` on our stack (dynamic array), `3` will be the first go.\n",
    "- **LIFO** could be used to **reverse** a sequence because the order will reverse when you take them out \n",
    "\n",
    " "
   ],
   "metadata": {
    "collapsed": false
   },
   "id": "b236796296c6b5b7"
  },
  {
   "cell_type": "markdown",
   "source": [
    "[682. Baseball Game](https://leetcode.com/problems/baseball-game/)\n",
    "\n",
    "I ran into three problems:\n",
    "- we worked with the list itself rather than making a **stack**\n",
    "- doing operations using the provided `operations` array \n",
    "- mixing up `stack[-1]` as being `stack[0]` and `stack[-2]` is the `stack[1]`\n",
    "\n",
    "**Remember that stacks are LIFO (Last in First out)**\n",
    "\n",
    "## My initial Code:\n",
    "\n",
    "```python\n",
    "def calPoints(self, operations: List[str]) -> int:\n",
    "           # Adding values to our array with a twist:\n",
    "    # \n",
    "    # '+' is the sum of the previous two scores \n",
    "    # 'D' will double the previous score \n",
    "    # 'C' will be removing the previous score \n",
    "    #\n",
    "    # Also keep in mind that operations is a list so we're going to have to loop \n",
    "    ops_stack = []\n",
    "    for rp in range(len(operations)):\n",
    "        if operations[rp] == '+':\n",
    "            # We're going sum up the two previous scores\n",
    "            ops_stack.append(int(operations[rp-1]) + int(operations[rp-2]))\n",
    "        elif operations[rp] == 'C':\n",
    "            # We're going to remove the previous score\n",
    "            ops_stack.pop()\n",
    "        elif operations[rp] == 'D':\n",
    "            # We're going to double the previous score\n",
    "            ops_stack.append(2*int(operations[rp-1]))\n",
    "        else:\n",
    "            ops_stack.append(int(operations[rp]))\n",
    "```\n",
    " \n",
    "## What's wrong?\n",
    "\n",
    "We're working directly with our operations array and a `operations[rp-1]` or `operations[rp-2]` could've been a letter operations.\n",
    "\n",
    "```python\n",
    "def calPoints(self, operations: List[str]) -> int:\n",
    "    # Adding values to our array with a twist:\n",
    "    # \n",
    "    # '+' is the sum of the previous two scores \n",
    "    # 'D' will double the previous score \n",
    "    # 'C' will be removing the previous score \n",
    "    #\n",
    "    # Also keep in mind that operations is a list so we're going to have to loop \n",
    "    \n",
    "    # Starting off with creating a stack \n",
    "    ops_stack = []\n",
    "    \n",
    "    # Looping through all of our operations \n",
    "    for p in range(len(operations)):\n",
    "        if operations[p] == '+':\n",
    "            # We're going sum up the two previous scores\n",
    "            # Since the rule is that these letter operations appear after 2 numbers are present in our stack...\n",
    "            ops_stack.append(ops_stack[-1] + ops_stack[-2])\n",
    "        elif operations[p] == 'C':\n",
    "            # We're going to remove the previous score\n",
    "            # Since the rule is that these letter operations appear after 1 numbers are present in our stack...\n",
    "            ops_stack.pop()     # Remember that our stack is LIFO\n",
    "        elif operations[p] == 'D':\n",
    "            # We're going to double the previous score\n",
    "            # Since the rule is that these letter operations appear after 1 numbers are present in our stack...\n",
    "            ops_stack.append(2*ops_stack[-1])\n",
    "        else:\n",
    "            # Push the number (as an integer) to our stack\n",
    "            ops_stack.append(int(operations[p]))\n",
    "    \n",
    "    return sum(ops_stack)   # Totaling the numbers\n",
    "```"
   ],
   "metadata": {
    "collapsed": false
   },
   "id": "9dc798619adc4153"
  },
  {
   "cell_type": "markdown",
   "source": [
    "[20. Valid Parentheses](https://leetcode.com/problems/valid-parentheses/description/)\n",
    "\n",
    "```python\n",
    "class Solution:\n",
    "    def isValid(self, s: str) -> bool:\n",
    "        # The whole objective is to compare every second string with the previous\n",
    "        # To achieve this, we just use a stack and a hashmap \n",
    "        # where we push the first string to our stack and compare that value with our hashmap\n",
    "        \n",
    "        # Creating our stack and Hashmap \n",
    "        stack = []\n",
    "        hash_map = {')':'(', '}':'{', ']':'['}  # We start with the closing because we want to analyze the SECOND string with the previous\n",
    "        \n",
    "        for specific_string in s:\n",
    "            if specific_string in hash_map:\n",
    "                # We know that it's a closing string so we need to compare this with the our stack\n",
    "                if stack and stack[-1] == hash_map[specific_string]:\n",
    "                    # We remove the opening from our stack because it's valid.\n",
    "                    stack.pop()\n",
    "                else:\n",
    "                    # We forgot this part but if there is no previous string we'd just return false\n",
    "                    return False\n",
    "            else:\n",
    "                # We know that its an open string so we could push it to our stack \n",
    "                stack.append(specific_string)\n",
    "        \n",
    "        # After our logic we check if our stack has any elements\n",
    "        return True if not stack else False\n",
    "\n",
    "```"
   ],
   "metadata": {
    "collapsed": false
   },
   "id": "11e8a0ae0034855a"
  },
  {
   "cell_type": "code",
   "execution_count": null,
   "outputs": [],
   "source": [],
   "metadata": {
    "collapsed": false
   },
   "id": "c78fef151d383c5e"
  },
  {
   "cell_type": "code",
   "execution_count": null,
   "outputs": [],
   "source": [],
   "metadata": {
    "collapsed": false
   },
   "id": "f2123ae69ba57a08"
  },
  {
   "cell_type": "code",
   "execution_count": null,
   "outputs": [],
   "source": [],
   "metadata": {
    "collapsed": false
   },
   "id": "6e72f796dccccd6b"
  }
 ],
 "metadata": {
  "kernelspec": {
   "display_name": "Python 3",
   "language": "python",
   "name": "python3"
  },
  "language_info": {
   "codemirror_mode": {
    "name": "ipython",
    "version": 2
   },
   "file_extension": ".py",
   "mimetype": "text/x-python",
   "name": "python",
   "nbconvert_exporter": "python",
   "pygments_lexer": "ipython2",
   "version": "2.7.6"
  }
 },
 "nbformat": 4,
 "nbformat_minor": 5
}
