{
 "cells": [
  {
   "cell_type": "markdown",
   "source": [
    "## Static Arrays \n",
    "\n",
    "**O(1)** for reading a value with an index. The time is constant.\n",
    "\n",
    "*Static Arrays* are **fixed** sized. Python and JS use *Dynamic Array*\n",
    "- *Writing* is a **O(1)** which is a constant time operation (instant) \n",
    "- *Removing* is efficient as **O(1)** constant time operation. We're overwriting it.\n",
    "- *Reading* is also **O(1)**.\n",
    "- *Inserting* is **O(n)** which isnt efficient because the n refers to the number of elements in the array \n",
    "- *Removing the middle* might also be **O(n)** in the worst case possible.\n",
    "- "
   ],
   "metadata": {
    "collapsed": false
   },
   "id": "42fa10e0f55d4be6"
  },
  {
   "cell_type": "markdown",
   "source": [
    "[26. Remove Duplicates from Sorted Array](https://leetcode.com/problems/remove-duplicates-from-sorted-array/)\n",
    "\n",
    "```python\n",
    " \n",
    "def removeDuplicates(self, nums):\n",
    "    \"\"\"\n",
    "    :type nums: List[int]\n",
    "    :rtype: int\n",
    "    \"\"\"\n",
    "     # Left and Right Pointer \n",
    "    # Since this is ascending order you know the first value will remain the same \n",
    "    l = 1   # we're checking the next index \n",
    "    # We're starting on 1 because again the first index should stay\n",
    "    # You just need to check if the second index and so fourth are the same as the one previous \n",
    "    for r in range(1, len(nums)):\n",
    "        # Checking or right pointer with the values before \n",
    "        if nums[r] != nums[r-1]:\n",
    "            # New Unique value which takes place of our Left Pointer \n",
    "            nums[l] = nums[r]\n",
    "            # Once we finish we need to increment our left pointer \n",
    "            l+=1\n",
    "    # Now we need to return the number of unique values and we know it's unique if our left pointer was incremented so..\n",
    "    return l\n",
    "```"
   ],
   "metadata": {
    "collapsed": false
   },
   "id": "f0d0af7218dcd62"
  },
  {
   "cell_type": "markdown",
   "source": [
    "[27. Remove Element](https://leetcode.com/problems/remove-element/description/)\n",
    "\n",
    "```python\n",
    "def removeElement(self, nums, val):\n",
    "        \"\"\"\n",
    "        :type nums: List[int]\n",
    "        :type val: int\n",
    "        :rtype: int\n",
    "        \"\"\"\n",
    "\n",
    "        # Removing all occurrences of in-place without a new array\n",
    "        # would require moving all elements that isn't the value to the front\n",
    "        # of the array. \n",
    "        #\n",
    "        # We'll do this by using a left and right pointer where the left pointer\n",
    "        # will tell us the index of our value and replace it with our right pointer\n",
    "        # the pointer that isn't our specified value\n",
    "\n",
    "        lp = 0  # It's the first position because the specified value could be in our first position \n",
    "        for rp in range(len(nums)):\n",
    "            # We'll move the number if it isn't our value. Otherwise we skip to let our left pointer sit\n",
    "            if nums[rp] != val:\n",
    "                # We'll replace the rp index value with our lp index value \n",
    "                nums[lp] = nums[rp]\n",
    "                # Also always need to increment our left pointer \n",
    "                lp += 1\n",
    "        # Leetcode wants to know the remaining elements and since we incremented lp...\n",
    "        return lp\n",
    "```"
   ],
   "metadata": {
    "collapsed": false
   },
   "id": "7db5f2a4df90a234"
  },
  {
   "cell_type": "code",
   "execution_count": null,
   "outputs": [],
   "source": [],
   "metadata": {
    "collapsed": false
   },
   "id": "35a72fb05c1dbe5e"
  },
  {
   "cell_type": "code",
   "execution_count": null,
   "outputs": [],
   "source": [],
   "metadata": {
    "collapsed": false
   },
   "id": "e7dd389c93e9272e"
  },
  {
   "cell_type": "code",
   "execution_count": null,
   "outputs": [],
   "source": [],
   "metadata": {
    "collapsed": false
   },
   "id": "76ecc711bd3f9cc6"
  }
 ],
 "metadata": {
  "kernelspec": {
   "display_name": "Python 3",
   "language": "python",
   "name": "python3"
  },
  "language_info": {
   "codemirror_mode": {
    "name": "ipython",
    "version": 2
   },
   "file_extension": ".py",
   "mimetype": "text/x-python",
   "name": "python",
   "nbconvert_exporter": "python",
   "pygments_lexer": "ipython2",
   "version": "2.7.6"
  }
 },
 "nbformat": 4,
 "nbformat_minor": 5
}
