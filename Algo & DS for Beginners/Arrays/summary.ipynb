{
 "cells": [
  {
   "cell_type": "markdown",
   "source": [
    "# RAM (Random Access Memory)\n",
    "\n",
    "**Arrays** are data structures stored in RAM \n",
    "- each value in the array is **4 bits**\n",
    "- this means the **address** in ram is incremented by 4 each time \n",
    "\n",
    "It's important to know that **Arrays** are **Contiguous (Adjacent)** group of element \n",
    "- Collection of ordered contiguous group of elements"
   ],
   "metadata": {
    "collapsed": false
   },
   "id": "3cde98d4c540e8fd"
  },
  {
   "cell_type": "markdown",
   "source": [
    "## Static Arrays \n",
    "\n",
    "*Static Arrays* are **fixed sized** data structure. \n",
    "- We won't know where it will be placed in RAM (running out of space)\n",
    "- It could put the new value **somewhere else** in the RAM <-- no longer contiguous (have two arrays)\n",
    "\n",
    "**Time Complexity**\n",
    "- *Writing* & *Removing/Overwriting* & *Reading* is all **constant time operations** meaning **O(1)**\n",
    "- *Inserting* & *Removing the middle* is an **O(n)** operation because we have to push everything to the right or left and *n* depends on the *size* of the array\n",
    "\n",
    "---\n",
    "\n",
    "[26. Remove Duplicates from Sorted Array](https://leetcode.com/problems/remove-duplicates-from-sorted-array/)\n",
    "- **Left and Right Pointer method** \n",
    "- Skip the first value since it will always be unique \n",
    "- New unique value will take place of our left pointer\n",
    "- Return left pointer because it will tell us the size (Incremented each time)\n",
    "\n",
    "---\n",
    "\n",
    "[27. Remove Element](https://leetcode.com/problems/remove-element/description/)\n",
    "- **Left and Right Pointer Method**\n",
    "- Move all values that isn't the specified value to the front of the array \n",
    "- Return left pointer because it will tell us the size (Incremented each time)\n"
   ],
   "metadata": {
    "collapsed": false
   },
   "id": "5740d86dc9fb9b38"
  },
  {
   "cell_type": "markdown",
   "source": [
    "## Dynamic Arrays \n",
    "\n",
    "*Dynamic Arrays* solve that **fixed size issue** by *doubling* the array size and copying all elements to it.\n",
    "- All the Operations are the same time complexity (O(1) constant)\n",
    "- Inserting/Deleting in the middle is still (O(n))\n",
    "- JS and Python have this as a default array option \n",
    "    - Java we'd used ArrayList\n",
    "    - C++ we'd use Vectors\n",
    "\n",
    "[1929. Concatenation of Array](https://leetcode.com/problems/concatenation-of-array/description/)\n",
    "- Add two Arrays Together or Multiply by 2"
   ],
   "metadata": {
    "collapsed": false
   },
   "id": "fa5f7b6178e9ee5c"
  },
  {
   "cell_type": "markdown",
   "source": [
    "## Stacks \n",
    "\n",
    "**LIFO** with `pop()` method. Implemented in Python as a **dynamic array** because the *pointer* knows the next element \n",
    "- Think of a vertical stack the first element we put in will be at the bottom and the last will be the first out\n",
    "- LIFO used to reverse a sequence\n",
    "\n",
    "[682. Baseball Game](https://leetcode.com/problems/baseball-game/)\n",
    "- make a stack for all the new values\n",
    "- loop over the operations and change the values in the **stack**\n",
    "- `stack[-1]` is the final element `stack[-2]` is the second to last element\n",
    "\n",
    "---\n",
    "\n",
    "[20. Valid Parentheses](https://leetcode.com/problems/valid-parentheses/description/)\n",
    "- **Stack and Hashmap**\n",
    "- Hashmap with a closing and push opening to stack \n",
    "- Compare the final ele in stack with current strings hash value \n",
    "\n",
    "---\n",
    "\n",
    "[155. Min Stack](https://leetcode.com/problems/min-stack/description/)\n",
    "- Create another stack in constructor for min values \n",
    "- Push min values to the min stack \n",
    "- This is so that we could work in constant time (O(1) rather than O(n) looping through all elements"
   ],
   "metadata": {
    "collapsed": false
   },
   "id": "caebc3e0be8b102b"
  },
  {
   "cell_type": "code",
   "execution_count": null,
   "outputs": [],
   "source": [],
   "metadata": {
    "collapsed": false
   },
   "id": "8de7d280ccecfb13"
  },
  {
   "cell_type": "code",
   "execution_count": null,
   "outputs": [],
   "source": [],
   "metadata": {
    "collapsed": false
   },
   "id": "b857307660c9be58"
  }
 ],
 "metadata": {
  "kernelspec": {
   "display_name": "Python 3",
   "language": "python",
   "name": "python3"
  },
  "language_info": {
   "codemirror_mode": {
    "name": "ipython",
    "version": 2
   },
   "file_extension": ".py",
   "mimetype": "text/x-python",
   "name": "python",
   "nbconvert_exporter": "python",
   "pygments_lexer": "ipython2",
   "version": "2.7.6"
  }
 },
 "nbformat": 4,
 "nbformat_minor": 5
}
