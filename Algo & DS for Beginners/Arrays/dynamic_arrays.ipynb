{
 "cells": [
  {
   "cell_type": "markdown",
   "source": [
    "# Dynamic Arrays \n",
    "\n",
    "These are more *common* because it solves the problem of static arrays that is: **fixed size**. In JS and Python, Dynamic arrays are default but in Java and C++ you'll be using **ArrayList and Vectors** respectively.\n",
    "\n",
    " **Dynamic Arrays** work by *doubling* the array size and copying all the elements (including the newly pushed element).\n",
    " \n",
    "We double for the last **dominating** term to be greater than the **sum of all operations** or (all the terms before it).\n",
    "\n",
    "As for **time complexity**, this would be **O(2n)** but since we don't care about *constants* with a *variable*, it would end up being  **O(n)**.\n",
    "- Moving all elements to another list requires the length of the list (n)\n",
    "- Operations like read/write & insert/delete at the end will be **O(1)**\n",
    "- Insert/Delete in the middle will be an **O(n)**\n"
   ],
   "metadata": {
    "collapsed": false
   },
   "id": "c841f5dab56ebabd"
  },
  {
   "cell_type": "markdown",
   "source": [
    "[1929. Concatenation of Array](https://leetcode.com/problems/concatenation-of-array/description/)\n",
    "\n",
    "```python\n",
    "\n",
    " def getConcatenation(self, nums):\n",
    "    \"\"\"\n",
    "    :type nums: List[int]\n",
    "    :rtype: List[int]\n",
    "    \"\"\"\n",
    "\n",
    "    # We just need to return an array that has 2n where n is the length of the original list\n",
    "    #\n",
    "    # The answer to this is combining/adding the same list or\n",
    "    # we could multiply the array by 2\n",
    "    return nums + nums\n",
    "\n",
    "```"
   ],
   "metadata": {
    "collapsed": false
   },
   "id": "5617e095f43c546f"
  },
  {
   "cell_type": "code",
   "execution_count": null,
   "outputs": [],
   "source": [],
   "metadata": {
    "collapsed": false
   },
   "id": "7002eed9ef4860b4"
  },
  {
   "cell_type": "code",
   "execution_count": null,
   "outputs": [],
   "source": [],
   "metadata": {
    "collapsed": false
   },
   "id": "59bfddca5fe960d9"
  },
  {
   "cell_type": "code",
   "execution_count": null,
   "outputs": [],
   "source": [],
   "metadata": {
    "collapsed": false
   },
   "id": "6adcb16fd4332612"
  },
  {
   "cell_type": "code",
   "execution_count": null,
   "outputs": [],
   "source": [],
   "metadata": {
    "collapsed": false
   },
   "id": "4d8c2919bce1c8e2"
  }
 ],
 "metadata": {
  "kernelspec": {
   "display_name": "Python 3",
   "language": "python",
   "name": "python3"
  },
  "language_info": {
   "codemirror_mode": {
    "name": "ipython",
    "version": 2
   },
   "file_extension": ".py",
   "mimetype": "text/x-python",
   "name": "python",
   "nbconvert_exporter": "python",
   "pygments_lexer": "ipython2",
   "version": "2.7.6"
  }
 },
 "nbformat": 4,
 "nbformat_minor": 5
}
