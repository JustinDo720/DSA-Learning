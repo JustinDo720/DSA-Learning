{
 "cells": [
  {
   "cell_type": "markdown",
   "source": [
    "**Arrays** is a *data structures* that are stored in **RAM**\n",
    "\n",
    "**ram** is measured in Bytes\n",
    "- Bytes = 8 bit (binary)\n",
    "- Ram is used to stored adv ds \n",
    "\n",
    "Our **array** is stored in **RAM** with an address incrementing by **4** representing **4 bits** per value.\n",
    "- This is **only** true for numbers\n",
    "\n",
    "If we store **characters** in our array, they are **1 bit** per value meaning the address will increment by 1\n",
    "- acsii characters\n",
    "\n",
    "**Data Structures** are a way to store data in an efficient manner in the **RAM**.\n",
    "- Collection of ordered, contiguous (adjacent) group of element \n"
   ],
   "metadata": {
    "collapsed": false
   },
   "id": "8af7cdda99faa851"
  },
  {
   "cell_type": "code",
   "execution_count": null,
   "outputs": [],
   "source": [],
   "metadata": {
    "collapsed": false
   },
   "id": "10fd8fb91329a42a"
  },
  {
   "cell_type": "code",
   "execution_count": null,
   "outputs": [],
   "source": [],
   "metadata": {
    "collapsed": false
   },
   "id": "ff0156c89ecb159b"
  },
  {
   "cell_type": "code",
   "execution_count": null,
   "outputs": [],
   "source": [],
   "metadata": {
    "collapsed": false
   },
   "id": "99f2ff2718821850"
  },
  {
   "cell_type": "code",
   "execution_count": null,
   "outputs": [],
   "source": [],
   "metadata": {
    "collapsed": false
   },
   "id": "9fd02d9942b17bb5"
  }
 ],
 "metadata": {
  "kernelspec": {
   "display_name": "Python 3",
   "language": "python",
   "name": "python3"
  },
  "language_info": {
   "codemirror_mode": {
    "name": "ipython",
    "version": 2
   },
   "file_extension": ".py",
   "mimetype": "text/x-python",
   "name": "python",
   "nbconvert_exporter": "python",
   "pygments_lexer": "ipython2",
   "version": "2.7.6"
  }
 },
 "nbformat": 4,
 "nbformat_minor": 5
}
