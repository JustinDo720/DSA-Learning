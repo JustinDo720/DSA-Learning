{
 "cells": [
  {
   "metadata": {},
   "cell_type": "markdown",
   "source": [
    "# Recursion: Factorial \n",
    "\n",
    "---\n",
    "\n",
    "We know **recursion** is to repeat an action. In coding terms, we **call our function** within the **function**. It's a way for a *function* to call **itself** with a smaller input.\n",
    "\n",
    "We could see this with Factorials\n",
    "\n",
    "---\n",
    "\n",
    "## Factorial\n",
    "\n",
    "In the simplest explanation, **factorials** is multiplying the given number, **n**, with its **predecessors**. \n",
    "For an example:\n",
    "- **5!** means 5 * 4 * 3 * 2 * 1\n",
    "- It's just __N! = N * N - 1 * ... * 1__\n",
    "\n",
    "However, thinking about factorials as **recursive** makes us see the example differently:\n",
    "- **5!** is just __5 * 4!__ and **4!** is just __4 * 3!__\n",
    "\n",
    "Take a look at the code below:\n",
    "- We have to pay attention to **two major details** when looking at *recursion*\n",
    "    - **Recursive statement** which is returning a function call with a smaller input\n",
    "    - **Base case** which tells us at what point does our recursion call end\n",
    "\n",
    "    "
   ],
   "id": "8005513426eb9eb1"
  },
  {
   "metadata": {},
   "cell_type": "code",
   "outputs": [],
   "execution_count": null,
   "source": [
    "# We create the function and always make a recursive statement that calls our function\n",
    "# with a smaller input\n",
    "def factorial(n: int) -> int:\n",
    "    ...\n",
    "    return n * factorial(n-1)   # Remember our formula was N * N-1! --> 5! = 5 * (5-1)!"
   ],
   "id": "9f0ec95012b35f1b"
  },
  {
   "metadata": {
    "ExecuteTime": {
     "end_time": "2024-06-25T23:31:17.141656Z",
     "start_time": "2024-06-25T23:31:17.137646Z"
    }
   },
   "cell_type": "code",
   "source": [
    "# Next we create the base case for when our recursive statement should end \n",
    "def factorial(n: int) -> int:\n",
    "    # Base Case: \n",
    "    # \n",
    "    # N <= 1 because 0! exists and it equals to 1 \n",
    "    # Now the reason why we return the value of 1 is because once we hit the base case, the function is still running.\n",
    "    # Which means during the execution of 2! --> it would be 2 * 1! and since we return 1 for 1! --> it would end up being 2*1.\n",
    "    if n <= 1:\n",
    "        return 1\n",
    "    \n",
    "    return n * factorial(n-1)"
   ],
   "id": "33a4dec6d76889b3",
   "outputs": [],
   "execution_count": 1
  },
  {
   "metadata": {},
   "cell_type": "markdown",
   "source": [
    "## Now using recursion isn't so effective all the time\n",
    "\n",
    "---\n",
    "\n",
    "**Recursion** here is actually the most **inefficient** way to solve a factorial question. However, it's a good way to introduce factorials.\n",
    "\n",
    "The main reason it's the most inefficient way is that the whole **factorial question** is placed in a time complexity of **O(n)** times because we're depending on an **n** value. However, compared to our second way with a **while loop**, recursion takes **O(n)** times in **ram** as we need to remember the previous values before computing the function with the smaller input.\n",
    "\n",
    "Here's how we accomplish this with a while loop:"
   ],
   "id": "b0060762a228a36d"
  },
  {
   "metadata": {},
   "cell_type": "code",
   "outputs": [],
   "execution_count": null,
   "source": [
    "# Given n\n",
    "res = 1 \n",
    "while n > 1:\n",
    "    res *= n \n",
    "    n -= 1"
   ],
   "id": "5881f84f7608374a"
  },
  {
   "metadata": {},
   "cell_type": "code",
   "outputs": [],
   "execution_count": null,
   "source": "",
   "id": "1c69af654c0cce4b"
  },
  {
   "metadata": {},
   "cell_type": "code",
   "outputs": [],
   "execution_count": null,
   "source": "",
   "id": "166ef4dea1f3b180"
  },
  {
   "metadata": {},
   "cell_type": "code",
   "outputs": [],
   "execution_count": null,
   "source": "",
   "id": "d3decbdbd2f5fd2a"
  }
 ],
 "metadata": {
  "kernelspec": {
   "display_name": "Python 3",
   "language": "python",
   "name": "python3"
  },
  "language_info": {
   "codemirror_mode": {
    "name": "ipython",
    "version": 2
   },
   "file_extension": ".py",
   "mimetype": "text/x-python",
   "name": "python",
   "nbconvert_exporter": "python",
   "pygments_lexer": "ipython2",
   "version": "2.7.6"
  }
 },
 "nbformat": 4,
 "nbformat_minor": 5
}
