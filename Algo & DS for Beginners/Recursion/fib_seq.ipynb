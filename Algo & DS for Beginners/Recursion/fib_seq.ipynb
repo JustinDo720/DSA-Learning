{
 "cells": [
  {
   "metadata": {},
   "cell_type": "markdown",
   "source": [
    "# Fibonacci Sequence \n",
    "\n",
    "**Formula**: F(n) = F(n-1) + F(n-2)\n",
    "Now we need to make sure we have **Base Cases**: F(0) = 0; F(1) = 1\n",
    "\n",
    "So we calculate up:\n",
    "- We know F(2) = F(1) + F(0) = which is just 1 + 0 (respectively) = 1 \n",
    "- So F(3) = F(2) + F(1) = 1 + 1 => 2\n",
    "\n",
    "**Two-Branch** Recursion:\n",
    "\n",
    "We're going to be using a **decision tree**\n",
    "\n",
    "\n",
    "<img src=\"Recursion%20-%20Frame%201.jpg\" width=950 height=750>\n",
    "\n",
    "\n",
    "---\n",
    "\n",
    "**Time Complexity**\n",
    "\n",
    "Now we could solve the Fib Seq in **O(n)** times (Loop Technique).\n",
    "\n",
    "Recursively, we need to look at the **Layers** within the *Decision Tree*. With a **Two-branch** decision tree, your **n** value will be the amount of layers you'll end up having. \n",
    "- If we have *F(5)* where *n=5* the highest amount of **layers** we will have is **5**\n",
    "\n",
    "Since it's based off of **n** and we know each time we're **doubling** that roughly means it's a time complexity of **O(2^n)**. \n",
    "- It's not a *precise* Time complexity but rather an **upper-bound** \n",
    "    - the **Upper-Bound** will always be greater than everything before it\n",
    "    - So even if it's not *precise* the time complexity will still be **O(2^n)**\n",
    "- If we multiply or add/subtract a **constant** it doesn't really matter too much in **time complexity** \n",
    "    - `2 * 2^n = 2^n+1 = 2^n-1` in the grand scheme of time complexity, it doesn't matter\n",
    " "
   ],
   "id": "53880e9eda65af13"
  },
  {
   "cell_type": "code",
   "id": "initial_id",
   "metadata": {
    "collapsed": true,
    "ExecuteTime": {
     "end_time": "2024-07-28T02:12:06.958375Z",
     "start_time": "2024-07-28T02:12:06.954840Z"
    }
   },
   "source": [
    "from typing import *\n",
    "\n",
    "# F(n) = F(n-1) + F(n-2)\n",
    "def fib(n : int) -> int:\n",
    "    # Base case:\n",
    "    # F(0) = 0\n",
    "    # F(1) = 1\n",
    "    if n <= 1:\n",
    "        # If n is 1 then we'll return 1; If n is 0 we'll return 0\n",
    "        return n\n",
    "    \n",
    "    # Recursive statement \n",
    "    return fib(n - 1) + fib(n - 2)\n",
    "\n",
    "print(fib(5))"
   ],
   "outputs": [
    {
     "name": "stdout",
     "output_type": "stream",
     "text": [
      "5\n"
     ]
    }
   ],
   "execution_count": 2
  },
  {
   "metadata": {},
   "cell_type": "code",
   "outputs": [],
   "execution_count": null,
   "source": "",
   "id": "6454211e55ec5ecb"
  }
 ],
 "metadata": {
  "kernelspec": {
   "display_name": "Python 3",
   "language": "python",
   "name": "python3"
  },
  "language_info": {
   "codemirror_mode": {
    "name": "ipython",
    "version": 2
   },
   "file_extension": ".py",
   "mimetype": "text/x-python",
   "name": "python",
   "nbconvert_exporter": "python",
   "pygments_lexer": "ipython2",
   "version": "2.7.6"
  }
 },
 "nbformat": 4,
 "nbformat_minor": 5
}
