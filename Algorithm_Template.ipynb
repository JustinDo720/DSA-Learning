{
 "cells": [
  {
   "cell_type": "markdown",
   "source": [
    "# Algorithm \n",
    "\n",
    "## My Interpretation \n",
    "\n",
    "## ChatGPT Interpretation "
   ],
   "metadata": {
    "collapsed": false
   },
   "id": "8b65563f82dce996"
  },
  {
   "cell_type": "markdown",
   "source": [
    "## My Scratchpad"
   ],
   "metadata": {
    "collapsed": false
   },
   "id": "22d4d718cd254617"
  },
  {
   "cell_type": "code",
   "execution_count": null,
   "outputs": [],
   "source": [
    "# My Algorithm"
   ],
   "metadata": {
    "collapsed": false
   },
   "id": "dc8968635938031"
  },
  {
   "cell_type": "code",
   "execution_count": null,
   "outputs": [],
   "source": [
    "# ChatGPT Algorithm"
   ],
   "metadata": {
    "collapsed": false
   },
   "id": "28c314549e883c00"
  },
  {
   "cell_type": "code",
   "execution_count": null,
   "outputs": [],
   "source": [
    "# Rebuilding the Algorithm"
   ],
   "metadata": {
    "collapsed": false
   },
   "id": "6633c0bb02aa9d61"
  },
  {
   "cell_type": "markdown",
   "source": [
    "## Where I Went Wrong"
   ],
   "metadata": {
    "collapsed": false
   },
   "id": "348a4a47061bdaa2"
  },
  {
   "cell_type": "markdown",
   "source": [
    "## Full Walkthrough"
   ],
   "metadata": {
    "collapsed": false
   },
   "id": "ee11333da0aa3cb8"
  },
  {
   "cell_type": "code",
   "execution_count": null,
   "outputs": [],
   "source": [],
   "metadata": {
    "collapsed": false
   },
   "id": "e5c2590408098030"
  },
  {
   "cell_type": "code",
   "execution_count": null,
   "outputs": [],
   "source": [],
   "metadata": {
    "collapsed": false
   },
   "id": "cafcb5aba6d990d4"
  }
 ],
 "metadata": {
  "kernelspec": {
   "display_name": "Python 3",
   "language": "python",
   "name": "python3"
  },
  "language_info": {
   "codemirror_mode": {
    "name": "ipython",
    "version": 2
   },
   "file_extension": ".py",
   "mimetype": "text/x-python",
   "name": "python",
   "nbconvert_exporter": "python",
   "pygments_lexer": "ipython2",
   "version": "2.7.6"
  }
 },
 "nbformat": 4,
 "nbformat_minor": 5
}
