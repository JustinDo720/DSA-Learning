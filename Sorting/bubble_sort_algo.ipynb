{
 "cells": [
  {
   "cell_type": "markdown",
   "source": [
    "# Bubble Sorting Algorithm\n",
    "\n",
    "---\n",
    "\n",
    "## My interpretation\n",
    "Bubble sorting checks and compares itself to their neighbor. If the neighbor is **smaller** it swaps position, thus bringing them closer to the end of the array.\n",
    "\n",
    "## ChatGPT interpretation\n",
    "Imagine you have a list of numbers. **Bubble sort** makes multiple passes through the list, comparing pairs of adjacent numbers and swapping them if they're in the wrong order. This repeats until the whole list is sorted, like **bubbles rising to the top**. It's simple but not the fastest for big lists."
   ],
   "metadata": {
    "collapsed": false
   },
   "id": "b12eec29043e3976"
  },
  {
   "cell_type": "markdown",
   "source": [
    "## My Scratch Pad \n",
    "\n",
    "How do we determine the end of the algorithm?\n",
    "- we could just check if we swapped or not\n",
    "    - if we didn't swap at all that means it's done  \n",
    "\n",
    "The issue with that approach is that if it doesn't swap at all it stops the algorithm\n",
    "- even when the list isnt fully sorted\n"
   ],
   "metadata": {
    "collapsed": false
   },
   "id": "750a665fc11ecffe"
  },
  {
   "cell_type": "code",
   "execution_count": 11,
   "outputs": [
    {
     "data": {
      "text/plain": "[3, 5, 15, 26, 36, 38, 44, 47]"
     },
     "execution_count": 11,
     "metadata": {},
     "output_type": "execute_result"
    }
   ],
   "source": [
    "# My Bubble Sort \n",
    "\n",
    "# Given an array, we're going to loop through the list and select an index and compare it to the adjacent number.\n",
    "# If that number is smaller than our selected number, we swap the two positions.\n",
    "# This has to be a while loop, and we're going to use a variable to continue or stop the algorithm.\n",
    "\n",
    "\n",
    "start_or_stop = True    # Default to run immediately upon code execution.\n",
    "testing_array = [3,44,38,5,47,15,36,26]\n",
    "\n",
    "while start_or_stop:\n",
    "    swapped = False\n",
    "    initial_index = 0   # We're going to increment this each time.\n",
    "    \n",
    "    while initial_index < len(testing_array) - 1:\n",
    "        # First we need to check if we're at the last element\n",
    "        if testing_array[initial_index] == testing_array[-1]:\n",
    "            # Reset the loop to check again until we can't swap anymore\n",
    "            initial_index = 0\n",
    "        \n",
    "        # If our first number is less than the next than we swap\n",
    "        if testing_array[initial_index] > testing_array[initial_index+1]:\n",
    "            testing_array[initial_index], testing_array[initial_index+1] = testing_array[initial_index+1], testing_array[initial_index]  \n",
    "            swapped = True\n",
    "        \n",
    "        # If it isn't, we're just going to move on by incrementing the initial index\n",
    "        initial_index += 1\n",
    "    \n",
    "    if not swapped:\n",
    "        # This is how we break off the loop\n",
    "        start_or_stop = False\n",
    "\n",
    "\n",
    "# Once we're finish look at the output\n",
    "testing_array\n",
    "        "
   ],
   "metadata": {
    "collapsed": false,
    "ExecuteTime": {
     "end_time": "2024-02-29T03:25:43.564006100Z",
     "start_time": "2024-02-29T03:25:43.559216100Z"
    }
   },
   "id": "4741000e77cf8437"
  },
  {
   "cell_type": "markdown",
   "source": [
    "## Where did I go wrong?\n",
    "\n",
    "I think the hardest part was finding a way to end this algorithm.\n",
    "\n",
    "```python\n",
    "if testing_array[initial_index] == testing_array[-1]:\n",
    "    # Reset the loop to check again until we can't swap anymore\n",
    "    initial_index = 0\n",
    "\n",
    "# If our first number is less than the next than we swap\n",
    "if testing_array[initial_index] > testing_array[initial_index+1]:\n",
    "    testing_array[initial_index], testing_array[initial_index+1] = testing_array[initial_index+1], testing_array[initial_index]  \n",
    "    swapped = True\n",
    "```\n",
    "\n",
    "My idea and code were correct; however, we needed a way to end the loop. The answer was a **nested while loop** that takes into the considering of our iteration over the list rather than seeing if it swapped or not. My *initial plan* was to set `swapped = False` but this is problematic without a **nested while loop** because if the *first element* didn't swap it leaves the rest of the list **unsorted**. \n",
    "\n",
    "Therefore, we added a nested while loop that works with **every part of the list (the index is less than the total number of elements *subtracted by 1 because we don't check the last element*)**\n"
   ],
   "metadata": {
    "collapsed": false
   },
   "id": "9ae54ffb2adf71bb"
  },
  {
   "cell_type": "markdown",
   "source": [
    "## Full Walkthrough\n",
    "\n",
    "---\n",
    "\n",
    "### Start with creating an example list and a variable to stop our initial loop\n",
    "\n",
    "```python\n",
    "example_list = [3,44,38,5,47,15,36,26]\n",
    "start_or_stop = True    # Default to True to run our while loop\n",
    "```\n",
    "\n",
    "### Start the while loop with an index counter to loop through our array and find a way to end the loop \n",
    "\n",
    "```python\n",
    "while start_or_stop:\n",
    "    swapped = False \n",
    "    index_counter = 0 \n",
    "\n",
    "    ...\n",
    "\n",
    "    if not swapped:\n",
    "        start_or_stop = False\n",
    "```\n",
    "\n",
    "### Figuring our the logic behind a bubble sort \n",
    "\n",
    "```python\n",
    "if example_list[index_counter] > example_list[index_counter + 1]:\n",
    "    # We must swap because the left ele is greater \n",
    "    example_list[index_counter], example_list[index_counter + 1] = example_list[index_counter + 1], example_list[index_counter]\n",
    "    swapped = True\n",
    "\n",
    "# NOTE: remember that we don't work with the last element\n",
    "if example_list[index_counter] == example_list[-1]:\n",
    "    index_counter = 0   # restart the algorithm \n",
    "\n",
    "# Make sure we increment the index_counter after running the check \n",
    "index_counter += 1\n",
    "```\n",
    "\n",
    "### Adding our bubble sort algorithm to check each element of the list \n",
    "\n",
    "```python\n",
    "while index_counter < len(index_counter) - 1:\n",
    "    # Bubble Sort Logic goes here\n",
    "    ...\n",
    "```"
   ],
   "metadata": {
    "collapsed": false
   },
   "id": "6f22200631b7c1ce"
  },
  {
   "cell_type": "code",
   "execution_count": null,
   "outputs": [],
   "source": [],
   "metadata": {
    "collapsed": false
   },
   "id": "4159af837c34cc39"
  }
 ],
 "metadata": {
  "kernelspec": {
   "display_name": "Python 3",
   "language": "python",
   "name": "python3"
  },
  "language_info": {
   "codemirror_mode": {
    "name": "ipython",
    "version": 2
   },
   "file_extension": ".py",
   "mimetype": "text/x-python",
   "name": "python",
   "nbconvert_exporter": "python",
   "pygments_lexer": "ipython2",
   "version": "2.7.6"
  }
 },
 "nbformat": 4,
 "nbformat_minor": 5
}
