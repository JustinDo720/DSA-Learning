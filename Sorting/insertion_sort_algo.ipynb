{
 "cells": [
  {
   "cell_type": "markdown",
   "source": [
    "# Insertion Sorting Algorithm\n",
    "\n",
    "## My interpretation\n",
    "This Algorithm Takes the index and compares that value with the values before it. If the value(s) before it turns out to be greater than our current index value, we insert it right after the index with the lower value.\n",
    "\n",
    "\n",
    "## ChatGPT interpretation\n",
    "**Insertion Sort** works by iterating through the array, considering one element at a time. It compares the current element with the elements before it and inserts it into its correct position within the already sorted part of the array"
   ],
   "metadata": {
    "collapsed": false
   },
   "id": "3fc81aaea4ec86"
  },
  {
   "cell_type": "markdown",
   "source": [
    "## My scratchpad\n",
    "\n",
    "We need to start with a current index and the next index\n",
    "- Iterate for all elements behind that next index \n",
    "- if we find a value that's smaller than our next_index \n",
    "    - we insert in front of the current index \n",
    "\n"
   ],
   "metadata": {
    "collapsed": false
   },
   "id": "3ef0071e14064e8"
  },
  {
   "cell_type": "code",
   "execution_count": 41,
   "outputs": [
    {
     "name": "stdout",
     "output_type": "stream",
     "text": [
      "Curr Index Val:  29\n",
      "Next Index Val:  10\n",
      "Vals before Index # 1 are:  29\n",
      "10 is less than 29 (we must insert 10 in position 0)\n",
      "\n",
      "Curr Index Val:  10\n",
      "Next Index Val:  14\n",
      "Vals before Index # 2 are:  29\n",
      "14 is less than 29 (we must insert 14 in position 0)\n",
      "Vals before Index # 2 are:  10\n",
      "\n",
      "Curr Index Val:  14\n",
      "Next Index Val:  37\n",
      "Vals before Index # 3 are:  29\n",
      "Vals before Index # 3 are:  10\n",
      "Vals before Index # 3 are:  14\n",
      "\n",
      "Curr Index Val:  37\n",
      "Next Index Val:  14\n",
      "Vals before Index # 4 are:  29\n",
      "14 is less than 29 (we must insert 14 in position 0)\n",
      "Vals before Index # 4 are:  10\n",
      "Vals before Index # 4 are:  14\n",
      "14 is less than 14 (we must insert 14 in position 2)\n",
      "Vals before Index # 4 are:  37\n",
      "14 is less than 37 (we must insert 14 in position 3)\n"
     ]
    }
   ],
   "source": [
    "# My Insertion Sorting Algorithm\n",
    "\n",
    "ex_arr = [29,10,14,37,14]\n",
    "curr_index = 0 \n",
    "total_ele = len(ex_arr)\n",
    "\n",
    "for index in range(curr_index, total_ele - 1):\n",
    "    new_position = 0\n",
    "    next_index = index + 1\n",
    "    \n",
    "    print(\"Curr Index Val: \", ex_arr[index])\n",
    "    print(\"Next Index Val: \", ex_arr[next_index])\n",
    "    for index_before in range(next_index):\n",
    "        print(\"Vals before Index #\", next_index, \"are: \", ex_arr[index_before])\n",
    "        if ex_arr[next_index] <= ex_arr[index_before]:\n",
    "            new_position = index_before\n",
    "            print(ex_arr[next_index], \"is less than\", ex_arr[index_before], f\"(we must insert {str(ex_arr[next_index])} in position {str(index_before)})\")\n",
    "    \n",
    "    print()\n",
    "    \n",
    "        \n",
    "    # # Find the new position\n",
    "    # for index_before in range(next_index, curr_index):\n",
    "    #     if ex_arr[next_index] < ex_arr[index_before]:\n",
    "    #         new_position = index_before\n",
    "    #     next_index += 1\n",
    "    #     break\n",
    "    # \n",
    "    # new_position_val = ex_arr[next_index]\n",
    "    # ex_arr.pop(next_index)    \n",
    "    # ex_arr.insert(new_position, new_position_val)\n",
    "    # # Inserting goes here with new position\n",
    "    # curr_index += 1\n",
    "            "
   ],
   "metadata": {
    "collapsed": false,
    "ExecuteTime": {
     "end_time": "2024-03-02T17:22:47.527649600Z",
     "start_time": "2024-03-02T17:22:47.522044500Z"
    }
   },
   "id": "34b40942b8ee2505"
  },
  {
   "cell_type": "code",
   "execution_count": 2,
   "outputs": [
    {
     "data": {
      "text/plain": "[10, 14, 14, 29, 37]"
     },
     "execution_count": 2,
     "metadata": {},
     "output_type": "execute_result"
    }
   ],
   "source": [
    "# ChatGPT Insertion Sorting Algorithm\n",
    "ex_arr = [29,10,14,37,14]\n",
    "\n",
    "for index in range(1, len(ex_arr)):\n",
    "    index_val = ex_arr[index]\n",
    "    before_index = index - 1\n",
    "    \n",
    "    while before_index >= 0 and index_val < ex_arr[before_index]:\n",
    "        ex_arr[before_index + 1] = ex_arr[before_index]\n",
    "        before_index -= 1\n",
    "    \n",
    "    ex_arr[before_index + 1] = index_val\n",
    "\n",
    "ex_arr"
   ],
   "metadata": {
    "collapsed": false,
    "ExecuteTime": {
     "end_time": "2024-03-05T18:34:46.438970700Z",
     "start_time": "2024-03-05T18:34:46.435058200Z"
    }
   },
   "id": "1c3efda9b1f70e33"
  },
  {
   "cell_type": "code",
   "execution_count": 11,
   "outputs": [
    {
     "data": {
      "text/plain": "[10, 14, 14, 29, 37]"
     },
     "execution_count": 11,
     "metadata": {},
     "output_type": "execute_result"
    }
   ],
   "source": [
    "# Rebuilding My algorithm\n",
    "ex_arr = [29,10,14,37,14]\n",
    "\n",
    "# We need to understand that the first element is considered sorted and all elements after are unsorted.\n",
    "# Therefore, we start checking on index 1 and work backwards.\n",
    "# Also keep note that the range() function doesn't include the last element.\n",
    "# That means we don't need to subtract one from the total elements in that list.\n",
    "for index in range(1, len(ex_arr)):\n",
    "    comparable_index = index \n",
    "    \n",
    "    while ex_arr[comparable_index - 1] > ex_arr[comparable_index] and comparable_index > 0:\n",
    "        ex_arr[comparable_index - 1], ex_arr[comparable_index] = ex_arr[comparable_index], ex_arr[comparable_index - 1]\n",
    "        comparable_index -= 1\n",
    "    \n",
    "ex_arr"
   ],
   "metadata": {
    "collapsed": false,
    "ExecuteTime": {
     "end_time": "2024-03-06T03:00:29.403343700Z",
     "start_time": "2024-03-06T03:00:29.398816100Z"
    }
   },
   "id": "332d9a1586af2870"
  },
  {
   "cell_type": "markdown",
   "source": [
    "# Where I went Wrong\n",
    "\n",
    "Instead of using another **for loop** to check each values... we could've used an inside **while loop** to check if the indexes to the left are bigger. If they are we just simily keep swapping them until they eventually are inserted into the correct spot|"
   ],
   "metadata": {
    "collapsed": false
   },
   "id": "f27f402f0c9e626e"
  },
  {
   "cell_type": "markdown",
   "source": [
    "# Full walkthrough\n",
    "\n",
    "### We start by looping through our array\n",
    "*it's important to note that we're looping through the second element all the way to the end (exclusive) but `range()` function already excludes the last number*\n",
    "```python\n",
    "for index in range(1, len(ex_arr)):\n",
    "    ...\n",
    "```\n",
    "\n",
    "### Set a while loop variable \n",
    "\n",
    "```python\n",
    "# Comparable Index is the variable to control our while loop condition\n",
    "comparable_index = index \n",
    "\n",
    "# We make sure the comparable_index is greater than 0 because we simply cannot have a negative index\n",
    "while ex_arr[comparable_index - 1] > ex_arr[comparable_index] and comparable_index > 0:\n",
    "    ...\n",
    "    comparable_index -= 1\n",
    "```\n",
    "\n",
    "### While loop logic \n",
    "\n",
    "```python\n",
    "# Since the index value before is greater than our current index, we keep swapping until it eventually fits\n",
    "ex_arr[comparable_index - 1], ex_arr[comparable_index] = ex_arr[comparable_index], ex_arr[comparable_index - 1]\n",
    "```"
   ],
   "metadata": {
    "collapsed": false
   },
   "id": "5fa72d19ab9ca148"
  },
  {
   "cell_type": "code",
   "execution_count": 4,
   "outputs": [],
   "source": [],
   "metadata": {
    "collapsed": false,
    "ExecuteTime": {
     "end_time": "2024-03-02T16:16:17.499905700Z",
     "start_time": "2024-03-02T16:16:17.488404700Z"
    }
   },
   "id": "713f92ce8b611a73"
  }
 ],
 "metadata": {
  "kernelspec": {
   "display_name": "Python 3",
   "language": "python",
   "name": "python3"
  },
  "language_info": {
   "codemirror_mode": {
    "name": "ipython",
    "version": 2
   },
   "file_extension": ".py",
   "mimetype": "text/x-python",
   "name": "python",
   "nbconvert_exporter": "python",
   "pygments_lexer": "ipython2",
   "version": "2.7.6"
  }
 },
 "nbformat": 4,
 "nbformat_minor": 5
}
