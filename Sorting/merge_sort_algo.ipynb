{
 "cells": [
  {
   "cell_type": "markdown",
   "source": [
    "# Merge Sorting Algorithm \n",
    "\n",
    "## My Interpretation \n",
    "We Split the array into separate arrays and individually sort them. After we start to combine two sorted array and make that new list a sorted one.\n",
    "\n",
    "## ChatGPT Interpretation \n",
    "Merge Sort involves dividing the array into smaller arrays, recursively sorting each smaller array, and then merging the sorted arrays to create a single sorted array."
   ],
   "metadata": {
    "collapsed": false
   },
   "id": "76c4144cf68800"
  },
  {
   "cell_type": "markdown",
   "source": [
    "## My Scratchpad\n",
    "\n",
    "We need to divide the array into smaller portions soo\n",
    "- we divide it by half and then half that of that \n",
    "\n",
    "After we got our small arrays we just sort each smaller arrays and rebuild our new array \n",
    "\n",
    "Merge sorting is continously splitting the array until halves while sorting each half. That's why we need **recursion**"
   ],
   "metadata": {
    "collapsed": false
   },
   "id": "fe16de026793dc2b"
  },
  {
   "cell_type": "code",
   "execution_count": 23,
   "outputs": [
    {
     "name": "stdout",
     "output_type": "stream",
     "text": [
      "[3, 5, 15, 36, 38, 44, 47]\n"
     ]
    }
   ],
   "source": [
    "# My Merge Sorting Algorithm\n",
    "\n",
    "ex_arr = [44, 3, 38, 5, 47, 15, 36]\n",
    "half_ex_arr, other_half = ex_arr[:len(ex_arr)//2], ex_arr[len(ex_arr)//2:]\n",
    "\n",
    "def individual_sort(arr):\n",
    "    for index in range(0, len(arr) - 1):\n",
    "        index_position = index\n",
    "        while arr[index_position] > arr[index_position+1] and index_position >= 0:\n",
    "            # If the current index value is greater than the one next to it we just swap the two values \n",
    "            arr[index_position], arr[index_position+1] = arr[index_position+1], arr[index_position]\n",
    "            index_position -= 1\n",
    "    return arr\n",
    "        \n",
    "half_sort = individual_sort(half_ex_arr)\n",
    "o_half_sort = individual_sort(other_half)\n",
    "ultimate_sort = individual_sort(half_sort + o_half_sort)\n",
    "print(ultimate_sort)"
   ],
   "metadata": {
    "collapsed": false,
    "ExecuteTime": {
     "end_time": "2024-03-07T23:57:39.255975400Z",
     "start_time": "2024-03-07T23:57:39.249975100Z"
    }
   },
   "id": "f1bcf087e84dd99"
  },
  {
   "cell_type": "code",
   "execution_count": 24,
   "outputs": [
    {
     "name": "stdout",
     "output_type": "stream",
     "text": [
      "[3, 5, 15, 36, 38, 44, 47]\n"
     ]
    }
   ],
   "source": [
    "# ChatGPT Merge Sorting Algorithm\n",
    "def merge_sort(arr):\n",
    "    if len(arr) > 1:\n",
    "        mid = len(arr) // 2\n",
    "        left_half = arr[:mid]\n",
    "        right_half = arr[mid:]\n",
    "\n",
    "        # Recursive call to sort the left and right halves\n",
    "        merge_sort(left_half)\n",
    "        merge_sort(right_half)\n",
    "\n",
    "        i = j = k = 0\n",
    "\n",
    "        # Merge the sorted halves\n",
    "        while i < len(left_half) and j < len(right_half):\n",
    "            if left_half[i] < right_half[j]:\n",
    "                arr[k] = left_half[i]\n",
    "                i += 1\n",
    "            else:\n",
    "                arr[k] = right_half[j]\n",
    "                j += 1\n",
    "            k += 1\n",
    "\n",
    "        # Check for any remaining elements in the left and right halves\n",
    "        while i < len(left_half):\n",
    "            arr[k] = left_half[i]\n",
    "            i += 1\n",
    "            k += 1\n",
    "\n",
    "        while j < len(right_half):\n",
    "            arr[k] = right_half[j]\n",
    "            j += 1\n",
    "            k += 1\n",
    "\n",
    "# Example usage:\n",
    "ex_arr = [44, 3, 38, 5, 47, 15, 36]\n",
    "merge_sort(ex_arr)\n",
    "print(ex_arr)\n"
   ],
   "metadata": {
    "collapsed": false,
    "ExecuteTime": {
     "end_time": "2024-03-07T23:58:24.638702Z",
     "start_time": "2024-03-07T23:58:24.635673500Z"
    }
   },
   "id": "ddd9eb8e7a8a78c6"
  },
  {
   "cell_type": "code",
   "execution_count": 3,
   "outputs": [
    {
     "data": {
      "text/plain": "[3, 5, 15, 36, 38, 44, 47]"
     },
     "execution_count": 3,
     "metadata": {},
     "output_type": "execute_result"
    }
   ],
   "source": [
    "# Rebuilding the Algorithm\n",
    "\n",
    "# We need a create a function because merge is a recursion algorithm \n",
    "def merge_sort(arr):\n",
    "    # Creating the base case. Our recursion function stops when there are one or less elements\n",
    "    if len(arr) > 1:\n",
    "        # Split the array into two halves \n",
    "        mid = len(arr) // 2\n",
    "        f_half = arr[:mid]\n",
    "        l_half = arr[mid:]\n",
    "        \n",
    "        # Recursion to continuously split and merge until the sub-array has one or less elements\n",
    "        merge_sort(f_half)\n",
    "        merge_sort(l_half)\n",
    "        \n",
    "        # Creating the base indexes that will be used with our while loop\n",
    "        fi = li = ai = 0    # fi (first_half index), li (last_half index), ai (array index) \n",
    "        \n",
    "        # We start to check each half and compare the values of the same indexes in EACH sub-array \n",
    "        # Our while loop condition should check if the indexes are more than the total elements in each half \n",
    "        while fi < len(f_half) and li < len(l_half):\n",
    "            # Here's where we check if the first index value of our first half is less than the second half\n",
    "            if f_half[fi] < l_half[li]:\n",
    "                # We can replace the index value for our main array with this element \n",
    "                arr[ai] = f_half[fi]\n",
    "                # Since we've concluded that the first index value for the first half is less, we continue to check the next element in the first half \n",
    "                fi += 1\n",
    "            else:\n",
    "                # This means that the first element of our first array is bigger.\n",
    "                # Therefore, we will set the index for our main array with our first element on the second half \n",
    "                arr[ai] = l_half[li]\n",
    "                # Since we've concluded that the first index value for the second half is less, we continue to check the next element in the first half \n",
    "                li += 1\n",
    "            # Go to our next index value for our main array because we've already placed one in the current index \n",
    "            ai += 1\n",
    "            \n",
    "        # Now we finished the merge loop.\n",
    "        # We still have to take the final elements into account.\n",
    "        # Let's work on each list individually\n",
    "        while fi < len(f_half):\n",
    "            # The last element belongs to fi since f_half[fi] > l_half[li]\n",
    "            arr[ai] = f_half[fi]\n",
    "            fi += 1 \n",
    "            ai += 1\n",
    "        \n",
    "        while li < len(l_half):\n",
    "            # The last element belongs to li since f_half[fi] < l_half[li]\n",
    "            arr[ai] = l_half[li]\n",
    "            li += 1 \n",
    "            ai += 1\n",
    "    \n",
    "    return arr\n",
    "\n",
    "ex_arr = [44, 3, 38, 5, 47, 15, 36]\n",
    "merge_sort(ex_arr)     "
   ],
   "metadata": {
    "collapsed": false,
    "ExecuteTime": {
     "end_time": "2024-03-08T23:24:01.280867500Z",
     "start_time": "2024-03-08T23:24:01.257614400Z"
    }
   },
   "id": "9769fc10c3837690"
  },
  {
   "cell_type": "markdown",
   "source": [
    "## Where I Went Wrong\n",
    "\n",
    "I combined *bubble sort* with splitting the array in **half ONCE**. Merge sort is **recursive** meaning it runs the function until you reach a **base case**. We needed to **continuously** run the function until we split the number elements down to one or less in that array."
   ],
   "metadata": {
    "collapsed": false
   },
   "id": "e9fe762a368ee9c5"
  },
  {
   "cell_type": "markdown",
   "source": [
    "## Full Walkthrough\n",
    "\n",
    "### Start off by creating an example array and a function.\n",
    "\n",
    "We need the function because again this is a **recursive** process.\n",
    "\n",
    "```python\n",
    "ex_arr = [44, 3, 38, 5, 47, 15, 36]\n",
    "def recur_merge_sort(arr):\n",
    "    pass\n",
    "```\n",
    "\n",
    "### Next we look at a base case and create our continuous halves\n",
    "\n",
    "We know that the recursion should end when **one or fewer** elements exist in that array so...\n",
    "\n",
    "```python\n",
    "def recur_merge_sort(arr):\n",
    "    if len(arr) > 1:\n",
    "        half_point = len(arr) // 2\n",
    "        f_half = arr[:half_point]\n",
    "        l_half = arr[half_point:]\n",
    "        \n",
    "        recur_merge_sort(f_half)\n",
    "        recur_merge_sort(l_half)\n",
    "```\n",
    "\n",
    "### After setting our base case and recursion, we implement the while loop conditions\n",
    "\n",
    "```python\n",
    "# Using these indexes for our while loop\n",
    "fi = li = ai = 0\n",
    "\n",
    "# With f_half and l_half being our arrays, we make sure the index values don't exceed the amount of elements that exist within that array\n",
    "while fi > len(f_half) and li > len(l_half):\n",
    "    pass\n",
    "```\n",
    "\n",
    "### Now we put in the merge sorting algorithm logic \n",
    "\n",
    "```python\n",
    "while fi > len(f_half) and li > len(l_half):\n",
    "    if f_half[fi] < l_half[li]:\n",
    "        # The index value of our first array is less than our second array.\n",
    "        # This means that we could replace our array's index position with this value.\n",
    "        arr[ai] = f_half[fi]\n",
    "        \n",
    "        # We need to increment our values to continue checking the next element.\n",
    "        # Additionally, we need to increment the array position.\n",
    "        arr += 1\n",
    "        fi += 1     # We incremented fi because fi value is less than li value\n",
    "    else:\n",
    "        # In the case that li value is bigger than fi value, we place that value into our main array \n",
    "        arr[ai] = l_half[li]\n",
    "        \n",
    "        # Like the step before, we need to increment our array position \n",
    "        arr += 1\n",
    "        li += 1     # We incremented li because li value is less than fi value\n",
    "```\n",
    "\n",
    "\n",
    "### Dealing with remaining elements\n",
    "\n",
    "Our while loop in the previous step stops when `li` or `fi` (the index values for each half of the array) becomes the **same number as the amount of elements within their array.** At that point, we still have remaining elements that must be dealt with; however, we won't know which array has the final element. Therefore, we create a case for both instances.\n",
    "\n",
    "```python\n",
    "# In case there's one element in f_half\n",
    "while fi < len(f_half):\n",
    "    arr[ai] = f_half[fi]\n",
    "    arr += 1    # Moves our algorithm along to place the value in the correct position\n",
    "    fi += 1 # Finish the while loop\n",
    "\n",
    "# In case there's one element in l_half\n",
    "while li < len(l_half):\n",
    "    arr[ai] = f_half[li]\n",
    "    arr += 1    # Moves our algorithm along to place the value in the correct position\n",
    "    li += 1 # Finish the while loop\n",
    "```\n",
    "\n",
    "### Once we finish our algorithm we must return the newly altered array \n",
    "\n",
    "```python\n",
    "ex_arr = [44, 3, 38, 5, 47, 15, 36]\n",
    "def recur_merge_sort(algo):\n",
    "    # All Merge Sort Logic Here\n",
    "    ...\n",
    "    return algo\n",
    "\n",
    "# We run our function, providing the array as the argument \n",
    "print(recur_merge_sort(ex_arr))\n",
    "```"
   ],
   "metadata": {
    "collapsed": false
   },
   "id": "44a95cf940a9eac8"
  }
 ],
 "metadata": {
  "kernelspec": {
   "display_name": "Python 3",
   "language": "python",
   "name": "python3"
  },
  "language_info": {
   "codemirror_mode": {
    "name": "ipython",
    "version": 2
   },
   "file_extension": ".py",
   "mimetype": "text/x-python",
   "name": "python",
   "nbconvert_exporter": "python",
   "pygments_lexer": "ipython2",
   "version": "2.7.6"
  }
 },
 "nbformat": 4,
 "nbformat_minor": 5
}
