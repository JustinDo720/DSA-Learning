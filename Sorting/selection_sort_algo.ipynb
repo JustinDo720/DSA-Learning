{
 "cells": [
  {
   "cell_type": "markdown",
   "source": [
    "## Selection Sort Algorithm\n",
    "\n",
    "---\n",
    "\n",
    "## My interpretation\n",
    "It compares the selected number to other numbers in the array. If one is found, it replaces the selected number with the smallest number\n",
    "\n",
    "## ChatGPT interpretation\n",
    "Selection Sort iterates through the array, selecting the smallest element, and swaps it with the element at the current position. This process is repeated for each unsorted portion of the array, gradually building up the sorted part.\n"
   ],
   "metadata": {
    "collapsed": false
   },
   "id": "778830121b3cb856"
  },
  {
   "cell_type": "markdown",
   "source": [
    "## My Scratchpad\n",
    "\n",
    "We are going to work with while loops and have almost the same process as bubble sort. Exception this time we iterate through the whole array and compare **one** index value with others\n",
    "\n",
    "You might need a minium index because as youre looping youre also comparing your new min to others\n",
    "\n",
    "if we have an array of `example_arr = [44,3,38,5,47,15,36,26]`\n",
    "\n",
    "the current index would be 0 which is 44\n",
    "- the min at the point would also be current index at 0 which has the value of 44\n",
    "- we need a next index variable which will be 1 which has a value of 3 \n",
    "    - since that is lower than 44, it's currently our new min so we set that index to our min variable \n",
    "    - this process loops throughout all of our elements in that list\n",
    "-  "
   ],
   "metadata": {
    "collapsed": false
   },
   "id": "78659435df6479b1"
  },
  {
   "cell_type": "code",
   "execution_count": 26,
   "outputs": [
    {
     "data": {
      "text/plain": "[3, 44, 38, 5, 47, 15, 36, 26]"
     },
     "execution_count": 26,
     "metadata": {},
     "output_type": "execute_result"
    }
   ],
   "source": [
    "# My Selection Sort Algorithm \n",
    "\n",
    "example_arr = [44,3,38,5,47,15,36,26]\n",
    "start_or_stop = True    # True to start the while loop \n",
    "\n",
    "while start_or_stop:\n",
    "    curr_index = 0 \n",
    "    comparable_min = 0\n",
    "    unsorted_index = 0  # Introduce the unsorted_index variable\n",
    "    \n",
    "    while curr_index < len(example_arr) - 1:\n",
    "        curr_index += 1\n",
    "        if example_arr[comparable_min] > example_arr[curr_index]:\n",
    "            comparable_min = curr_index\n",
    "        \n",
    "        \n",
    "    # We should've gotten the index with the smallest value compared to everything else \n",
    "    example_arr[comparable_min], example_arr[unsorted_index] = example_arr[unsorted_index], example_arr[comparable_min]\n",
    "    unsorted_index += 1  # Increment the unsorted_index\n",
    "    \n",
    "    if curr_index == len(example_arr) - 1:\n",
    "        start_or_stop = False\n",
    "    \n",
    "        \n",
    "example_arr"
   ],
   "metadata": {
    "collapsed": false,
    "ExecuteTime": {
     "end_time": "2024-03-01T20:37:02.337909700Z",
     "start_time": "2024-03-01T20:37:02.327627100Z"
    }
   },
   "id": "a5a45bbac32b3e2f"
  },
  {
   "cell_type": "code",
   "execution_count": 10,
   "outputs": [
    {
     "name": "stdout",
     "output_type": "stream",
     "text": [
      "Sorted array: [3, 5, 15, 26, 36, 38, 44, 47]\n"
     ]
    }
   ],
   "source": [
    "# ChatGPTs selection algorithm\n",
    "\n",
    "def selection_sort(arr):\n",
    "    n = len(arr)\n",
    "    i = 0\n",
    "\n",
    "    while i < n - 1:\n",
    "        min_index = i\n",
    "        j = i + 1\n",
    "\n",
    "        while j < n:\n",
    "            if arr[j] < arr[min_index]:\n",
    "                min_index = j\n",
    "            j += 1\n",
    "\n",
    "        arr[i], arr[min_index] = arr[min_index], arr[i]\n",
    "        i += 1\n",
    "\n",
    "# Example usage:\n",
    "example_arr = [3, 44, 38, 5, 47, 15, 36, 26]\n",
    "selection_sort(example_arr)\n",
    "print(\"Sorted array:\", example_arr)"
   ],
   "metadata": {
    "collapsed": false,
    "ExecuteTime": {
     "end_time": "2024-03-01T20:19:08.988555100Z",
     "start_time": "2024-03-01T20:19:08.980146500Z"
    }
   },
   "id": "640a96b29d2d05be"
  },
  {
   "cell_type": "code",
   "execution_count": 3,
   "outputs": [
    {
     "data": {
      "text/plain": "[3, 5, 15, 26, 36, 38, 44, 47]"
     },
     "execution_count": 3,
     "metadata": {},
     "output_type": "execute_result"
    }
   ],
   "source": [
    "# Rebuilding my Algorithm \n",
    "\n",
    "example_arr = [44,3,38,5,47,15,36,26]\n",
    "curr_index = 0 \n",
    "\n",
    "# The loop will continue so long as there are elements in the list (excluding the final element)\n",
    "while curr_index < len(example_arr) - 1:\n",
    "    comp_min = curr_index\n",
    "    next_index = curr_index + 1\n",
    "    \n",
    "    while next_index < len(example_arr):\n",
    "        if example_arr[comp_min] > example_arr[next_index]:\n",
    "            comp_min = next_index\n",
    "        next_index += 1\n",
    "    \n",
    "    # At this point, we would have the best comp min and if comp min wasn't altered ... we'll end up swapping nothing \n",
    "    example_arr[comp_min], example_arr[curr_index] = example_arr[curr_index], example_arr[comp_min]\n",
    "    \n",
    "    # Don't forget to increment our current index to continue the while loop\n",
    "    curr_index += 1\n",
    "\n",
    "example_arr\n",
    "    \n"
   ],
   "metadata": {
    "collapsed": false,
    "ExecuteTime": {
     "end_time": "2024-03-02T15:42:14.633851800Z",
     "start_time": "2024-03-02T15:42:14.627050600Z"
    }
   },
   "id": "6270deac745cbb36"
  },
  {
   "cell_type": "markdown",
   "source": [
    "## Where Did I go Wrong\n",
    "\n",
    "The main issue was mixing up the `next_index` with the `curr_index` and not **creating a minium variable**. I had the right idea that you have to select one index and compare its value to the index value next to that element; however, it was poorly executed because we weren't able to stop our algorithm at the right time. In addition to that mistake, there were no **minium variable** and we kept comparing **curr_index**.\n",
    "\n",
    "The main fix here is creating a **current index in the outer while loop** and compare the **minium index** with the **next index**. This allows us to compare the right value where if the *minium index* is lower than the *next index*, we'll set the *minium index* to the *next index*.\n",
    "\n",
    "With this being said, we need an inner while loop that works with an incrementing *next_index* variable. We'll then swap and increment our outer loop variable by increasing *curr_index*.\n"
   ],
   "metadata": {
    "collapsed": false
   },
   "id": "bdd3187ece280527"
  },
  {
   "cell_type": "markdown",
   "source": [
    "## Full Walkthrough\n",
    "\n",
    "### We begin by setting up our example array and while loop\n",
    "\n",
    "```python\n",
    "example_arr = [44,3,38,5,47,15,36,26]\n",
    "# The curr_index is used to loop and sort through each element \n",
    "curr_index = 0 \n",
    "\n",
    "# The loop will continue so long as the current index is less than the second to last index in our array.\n",
    "# This is because we don't need to check our final element.\n",
    "# The final element will be sorted throughout the algorithm.\n",
    "while curr_index < len(example_arr) - 1:\n",
    "    ...\n",
    "\n",
    "print(example_arr)\n",
    "```\n",
    "\n",
    "### Setting up our inner while loop and the necessary variables\n",
    "\n",
    "```python\n",
    "while curr_index < len(example_arr) - 1:\n",
    "    \n",
    "    # Comparable Minimum is the index with the lowest value in our array \n",
    "    comp_min = curr_index   # The default value is set to the curr_index \n",
    "    # Next Index is simply the index following our Current Index\n",
    "    next_index = curr_index + 1\n",
    "\n",
    "    # When our next index is still within the total number of indexies, we'll run our main selection process\n",
    "    while next_index < len(example_arr):\n",
    "        ...\n",
    "```\n",
    "\n",
    "### Working with that selection process \n",
    "\n",
    "```python\n",
    "while next_index < len(example_arr):\n",
    "    # We check if the value of our minimum comparable is greater than the value of the next index \n",
    "    if example_arr[comp_min] > example_arr[next_index]:\n",
    "        # Set the new compariable minimum with the next index value \n",
    "        comp_min = next_index\n",
    "    # Regardless of the outcome, we need to increment the next_index variable to continue our while loop \n",
    "    next_index += 1\n",
    "```\n",
    "\n",
    "### Swapping our values \n",
    "\n",
    "```python\n",
    "while curr_index < len(example_arr) - 1:\n",
    "    # Simply swap the two values of our new comp min and the current index\n",
    "    example_arr[comp_min], example_arr[curr_index] = example_arr[curr_index], example_arr[comp_min]\n",
    "    \n",
    "    # After swapping, we need to look at our outer while loop variable by incrementing the current index\n",
    "    curr_index += 1\n",
    "\n",
    "# Printing out our sorted array \n",
    "print(example_arr)\n",
    "```\n",
    "\n"
   ],
   "metadata": {
    "collapsed": false
   },
   "id": "a95d6646ce8a3402"
  },
  {
   "cell_type": "code",
   "execution_count": null,
   "outputs": [],
   "source": [],
   "metadata": {
    "collapsed": false
   },
   "id": "64ead6b21acdb663"
  }
 ],
 "metadata": {
  "kernelspec": {
   "display_name": "Python 3",
   "language": "python",
   "name": "python3"
  },
  "language_info": {
   "codemirror_mode": {
    "name": "ipython",
    "version": 2
   },
   "file_extension": ".py",
   "mimetype": "text/x-python",
   "name": "python",
   "nbconvert_exporter": "python",
   "pygments_lexer": "ipython2",
   "version": "2.7.6"
  }
 },
 "nbformat": 4,
 "nbformat_minor": 5
}
